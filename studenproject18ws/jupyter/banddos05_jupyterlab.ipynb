{
 "cells": [
  {
   "cell_type": "markdown",
   "metadata": {},
   "source": [
    "# TODOs 08.01.19\n",
    "\n",
    "New in this notebook:\n",
    "- TODO: put widgets and plots into a rudimentary dashboard layout\n",
    "- TODO: for band plot, enable switching between spin and normal plot\n",
    "- TODO: add file chooser\n",
    "- TODO: add 3D plot: crystal structure\n",
    "- TODO: add BZ plot of kpath (Brillouin zone)"
   ]
  },
  {
   "cell_type": "markdown",
   "metadata": {},
   "source": [
    "# Setup"
   ]
  },
  {
   "cell_type": "markdown",
   "metadata": {},
   "source": [
    "## Setup masci-tools path"
   ]
  },
  {
   "cell_type": "code",
   "execution_count": 61,
   "metadata": {},
   "outputs": [],
   "source": [
    "# IMPORTANT: we need to import stuff from masci-tools folder.\n",
    "# Since masci-tools is not installed as a module (yet), the notebook kernel\n",
    "# needs to be started in the masci-tools folder.\n",
    "# If that has not happened for some reason, then need to add the masci-tools\n",
    "# manually to the sys path.\n",
    "import os\n",
    "import sys\n",
    "\n",
    "cwd = os.getcwd()\n",
    "path_mtools = cwd\n",
    "dirname_mtools = \"masci-tools\"\n",
    "# first try if we can get away without needing an absolute path\n",
    "if dirname_mtools in path_mtools:\n",
    "    while os.path.basename(path_mtools) != dirname_mtools:\n",
    "        path_mtools = os.path.split(path_mtools)[0]\n",
    "else:\n",
    "    # okay, try with an absolute path\n",
    "    path_mtools = \"/home/johannes/Desktop/Studium/Kurse_RWTH/SiScLab/18W/repos/masci-tools\"\n",
    "    if not os.path.isdir(path_mtools):\n",
    "        raise IOError(f\"Could not find path to masci-tools. Please specify absolute path.\")\n",
    "\n",
    "# found masci-tools. add to syspath (for imports) and chdir.\n",
    "if path_mtools not in sys.path:\n",
    "    # add only once\n",
    "    sys.path.append(path_mtools)"
   ]
  },
  {
   "cell_type": "markdown",
   "metadata": {},
   "source": [
    "## Setup imports"
   ]
  },
  {
   "cell_type": "code",
   "execution_count": 62,
   "metadata": {},
   "outputs": [],
   "source": [
    "# Jupyter, Python imports\n",
    "import ipywidgets as widgets\n",
    "from ipywidgets import interact, interactive, fixed, interact_manual\n",
    "from IPython.display import display\n",
    "import matplotlib.pyplot as plt\n",
    "import numpy as np\n",
    "\n",
    "#  python 3interactive figures in a live IPython notebook session\n",
    "# if run from jupyter-notebook: MAGICmatplotlib nbagg\n",
    "# if run from jupyter-lab: MAGICmatplotlib widget\n",
    "%matplotlib widget\n",
    "\n",
    "# studentproject18ws imports\n",
    "import os\n",
    "import logging\n",
    "from studenproject18ws.hdf.reader import Reader\n",
    "from studenproject18ws.hdf.recipes import Recipes"
   ]
  },
  {
   "cell_type": "markdown",
   "metadata": {},
   "source": [
    "## Read file, import data\n",
    "\n",
    "- TODO: link with widget-based file-chooser"
   ]
  },
  {
   "cell_type": "code",
   "execution_count": 63,
   "metadata": {},
   "outputs": [],
   "source": [
    "filename = 'banddos_4x4.hdf'\n",
    "# filename = 'banddos.hdf'\n",
    "# filename = 'banddos_Co.hdf'\n",
    "\n",
    "filepath = ['..', 'data', 'input', filename]\n",
    "filepath = os.path.join(*filepath)\n",
    "\n",
    "data = None\n",
    "extractor = Reader(filepath=filepath)\n",
    "with extractor as h5file:\n",
    "    data = extractor.read(recipe=Recipes.Bands)\n",
    "    #\n",
    "    # Note:\n",
    "    # Inside the with statement (context manager),\n",
    "    # all data attributes that are type h5py Dataset are available (in-file access)\n",
    "    # When the statement is left,the HDF5 file gets closed and the datasets are closed.\n",
    "    #\n",
    "    # Use data outside the with-statement (in-memory access: all HDF5 datasets converted to numpy ndarrays):\n",
    "    data.move_datasets_to_memory()"
   ]
  },
  {
   "cell_type": "markdown",
   "metadata": {},
   "source": [
    "# Define Widgets"
   ]
  },
  {
   "cell_type": "markdown",
   "metadata": {},
   "source": [
    "## Define band plot"
   ]
  },
  {
   "cell_type": "code",
   "execution_count": 64,
   "metadata": {},
   "outputs": [
    {
     "data": {
      "application/vnd.jupyter.widget-view+json": {
       "model_id": "341a1488afa041a582eba5285bd3a652",
       "version_major": 2,
       "version_minor": 0
      },
      "text/plain": [
       "FigureCanvasNbAgg()"
      ]
     },
     "metadata": {},
     "output_type": "display_data"
    },
    {
     "data": {
      "text/plain": [
       "Text(0.5,0.98,'BandStructure of banddos_4x4.hdf')"
      ]
     },
     "execution_count": 64,
     "metadata": {},
     "output_type": "execute_result"
    }
   ],
   "source": [
    "# defining the plt outside of the function so we can link it with widgets.\n",
    "fig, ax = plt.subplots(1, figsize=(10,6))\n",
    "plt.suptitle(f\"BandStructure of {filename}\")"
   ]
  },
  {
   "cell_type": "markdown",
   "metadata": {},
   "source": [
    "## Band plot"
   ]
  },
  {
   "cell_type": "markdown",
   "metadata": {},
   "source": [
    "### Plot function: plot layout"
   ]
  },
  {
   "cell_type": "code",
   "execution_count": 65,
   "metadata": {},
   "outputs": [],
   "source": [
    "def plot_setup():\n",
    "    labels = []\n",
    "    for label in data.k_special_point_labels:\n",
    "        label = label.decode(\"utf-8\")\n",
    "        if (label == \"g\"):\n",
    "            labels += [\"$\\Gamma$\"]\n",
    "        else:\n",
    "            labels += str(label)\n",
    "\n",
    "    plt.xticks(data.k_special_points, labels)\n",
    "    plt.ylabel(\"E(k) [eV]\")\n",
    "    plt.xlim(0, max(data.k_distances))\n",
    "    plt.hlines(0, 0, max(data.k_distances), lw=0.1)    "
   ]
  },
  {
   "cell_type": "markdown",
   "metadata": {},
   "source": [
    "### Plot function: 2-character-selection"
   ]
  },
  {
   "cell_type": "code",
   "execution_count": 66,
   "metadata": {},
   "outputs": [],
   "source": [
    "def plot_two_characters(mask_bands, mask_characters, mask_groups, spin, unfolding_weight_exponent, alpha=1):\n",
    "    \n",
    "#     characters = np.array(range(4))[mask_characters]\n",
    "    \n",
    "#     (k_resh, evs_resh, weight_resh) = data \\\n",
    "#         .reshape_data(mask_bands, data._mask_characters([characters[0]]),\n",
    "#                       mask_groups, spin, unfolding_weight_exponent)\n",
    "\n",
    "#     (k_resh2, evs_resh2, weight_resh2) = data \\\n",
    "#         .reshape_data(mask_bands, data._mask_characters([characters[1]]),\n",
    "#                       mask_groups, spin, unfolding_weight_exponent)\n",
    "    \n",
    "#     rel = weight_resh / (weight_resh + weight_resh2) * 20\n",
    "#     cm = plt.cm.winter  # get_cmap('RdYlBu')\n",
    "#     ax.scatter(k_resh2, (evs_resh - data.fermi_energy) * data.HARTREE_EV, marker='o', c=rel, s=5 * weight_resh2,\n",
    "#                lw=0,\n",
    "#                alpha=alpha, cmap=cm)    \n",
    "    \n",
    "    characters = np.array(range(4))[mask_characters]\n",
    "    if (len(characters) != 2):\n",
    "        print(\"plot_two_characters: tried to plot with other than 2 characters selected. not allowed!\")\n",
    "\n",
    "    (k_resh, evs_resh, weight_resh) = data \\\n",
    "        .reshape_data(mask_bands, data._mask_characters([characters[0]]),\n",
    "                      mask_groups, spin, unfolding_weight_exponent)\n",
    "\n",
    "    (k_resh2, evs_resh2, weight_resh2) = data \\\n",
    "        .reshape_data(mask_bands, data._mask_characters([characters[1]]),\n",
    "                      mask_groups, spin, unfolding_weight_exponent)\n",
    "\n",
    "    # print(f\"non-zero elements in divisor array: {np.count_nonzero(weight_resh+weight_resh2)} of {weight_resh.size} elements.\")\n",
    "    rel = weight_resh / (weight_resh + weight_resh2) * 20\n",
    "    tot_weight = weight_resh + weight_resh2\n",
    "    # ax1.scatter(k_resh, (evs_resh-fermi_energy)*hartree_in_ev, marker='o', c=\"g\", s = 5 * weight_resh, lw=0, alpha = alpha)\n",
    "    # ax1.scatter(k_resh2, (evs_resh-fermi_energy)*hartree_in_ev, marker='o', c=\"r\", s = 5 * weight_resh2, lw=0, alpha = alpha)\n",
    "    # print(len(tot_weight))\n",
    "    # print(len(k_resh2))\n",
    "    # print(len(rel))\n",
    "    # print(len(evs_resh))\n",
    "\n",
    "    # dont change order inside if statement...\n",
    "    speed_up = True\n",
    "    if (speed_up == True):\n",
    "        t = 1e-4\n",
    "        k_resh2 = k_resh2[tot_weight > t]\n",
    "        evs_resh = evs_resh[tot_weight > t]\n",
    "        rel = rel[tot_weight > t]\n",
    "        tot_weight = tot_weight[tot_weight > t]\n",
    "\n",
    "    # print(len(tot_weight))\n",
    "    # print(len(k_resh2))\n",
    "    # print(len(rel))\n",
    "    # print(len(evs_resh))\n",
    "\n",
    "    # cm = plt.cm.get_cmap('RdYlBu')\n",
    "    # cm = plt.cm.winter\n",
    "    cm = plt.cm.plasma\n",
    "    ax.scatter(k_resh2, (evs_resh - data.fermi_energy) * data.HARTREE_EV, marker='o', c=rel, s=5 * tot_weight,\n",
    "               lw=0,\n",
    "               alpha=alpha, cmap=cm)"
   ]
  },
  {
   "cell_type": "markdown",
   "metadata": {},
   "source": [
    "### Plot function: normal"
   ]
  },
  {
   "cell_type": "code",
   "execution_count": 67,
   "metadata": {},
   "outputs": [],
   "source": [
    "def plot(mask_bands, mask_characters, mask_groups, spin, unfolding_weight_exponent, isCharacterPlot=False, alpha=1):\n",
    "    \n",
    "    if isCharacterPlot:\n",
    "        alpha=1\n",
    "        plot_two_characters(mask_bands, mask_characters, mask_groups, spin, unfolding_weight_exponent, alpha)\n",
    "    \n",
    "    else:\n",
    "        \n",
    "        alpha = 1\n",
    "        color = \"blue\"\n",
    "        (k_r, E_r, W_r) = data.reshape_data(mask_bands, mask_characters, mask_groups, spin,\n",
    "                                               unfolding_weight_exponent)\n",
    "        # just plot points with minimal size of t\n",
    "        speed_up = True\n",
    "        if (speed_up == True):\n",
    "            t = 1e-4\n",
    "            k_r = k_r[W_r > t]\n",
    "            E_r = E_r[W_r > t]\n",
    "            W_r = W_r[W_r > t]\n",
    "        ax.scatter(k_r, (E_r - data.fermi_energy) * data.HARTREE_EV,\n",
    "                   marker='o', c=color, s=5 * W_r, lw=0, alpha=alpha)"
   ]
  },
  {
   "cell_type": "markdown",
   "metadata": {},
   "source": [
    "### Define user input arguments"
   ]
  },
  {
   "cell_type": "code",
   "execution_count": 68,
   "metadata": {},
   "outputs": [],
   "source": [
    "# bands = atom_group_keys = e.g. for banddos.hdf: dict_keys[(1,2,3,4,5)]\n",
    "#                           Hm... should better convert to tuple back in reader?\n",
    "def_groups = data.atom_group_keys\n",
    "select_groups = widgets.SelectMultiple(options=def_groups, \n",
    "                                   value=tuple(def_groups),\n",
    "                                  description='Atom Groups',\n",
    "                                  disabled=False)\n",
    "\n",
    "\n",
    "def_characters = ['s', 'p', 'd', 'f']\n",
    "# Characters = namedtuple('Characters', ['s', 'p', 'd', 'f'])\n",
    "# characters = Characters(0,1,2,3)\n",
    "select_characters = widgets.SelectMultiple(options=def_characters,\n",
    "                                          value=tuple(def_characters),\n",
    "                                          description='Band Character',\n",
    "                                          disabled=False)\n",
    "\n",
    "# number of bands can be large, so use a rangeslider instead of selectionslider\n",
    "def_bands = [band for band in range(data.eigenvalues.shape[2])]\n",
    "select_bands = widgets.IntRangeSlider(value=[def_bands[0]+1,def_bands[-1]+1], \n",
    "                                      min=def_bands[0]+1, max=def_bands[-1]+1, step=1,\n",
    "                                     description='Bands',\n",
    "                                     disabled=False, continuous_update=False,\n",
    "                                     orientation='horizontal', readout=True,\n",
    "                                     readout_format='d')\n",
    "\n",
    "select_exponent = widgets.FloatSlider(\n",
    "    value=1.0,\n",
    "    min=0,\n",
    "    max=1.0,\n",
    "    step=0.01,\n",
    "    description='Unfolding weight exponent:',\n",
    "    disabled=False,\n",
    "    continuous_update=False,\n",
    "    orientation='horizontal',\n",
    "    readout=True,\n",
    "    readout_format='.2f')"
   ]
  },
  {
   "cell_type": "markdown",
   "metadata": {},
   "source": [
    "## Interact function"
   ]
  },
  {
   "cell_type": "code",
   "execution_count": 69,
   "metadata": {},
   "outputs": [
    {
     "data": {
      "application/vnd.jupyter.widget-view+json": {
       "model_id": "7d58d445f6054ee48f8ec24af1892ffc",
       "version_major": 2,
       "version_minor": 0
      },
      "text/plain": [
       "FigureCanvasNbAgg()"
      ]
     },
     "metadata": {},
     "output_type": "display_data"
    },
    {
     "data": {
      "application/vnd.jupyter.widget-view+json": {
       "model_id": "bc3a5e5d54134aef98077351a4a3fc86",
       "version_major": 2,
       "version_minor": 0
      },
      "text/plain": [
       "interactive(children=(IntRangeSlider(value=(1, 387), continuous_update=False, description='Bands', max=387, mi…"
      ]
     },
     "metadata": {},
     "output_type": "display_data"
    }
   ],
   "source": [
    "fig_scale = 0.5\n",
    "fig_ratio = [10,6]\n",
    "fig, ax = plt.subplots(1, figsize=[fig_scale * el for el in fig_ratio])\n",
    "plt.suptitle(f\"BandStructure of {filename}\")\n",
    "\n",
    "\n",
    "@interact(bands=select_bands, characters=select_characters, groups=select_groups, unfolding_weight_exponent=select_exponent)\n",
    "def update_plot(bands, characters, groups, unfolding_weight_exponent):\n",
    "    ax.clear()\n",
    "    \n",
    "    # convert arguments to the expected format for code 181124\n",
    "    bands_conved = range(bands[0]-1,bands[1])\n",
    "    groups_conved = [el-1 for el in groups]\n",
    "    characters_conved = [def_characters.index(el) for el in characters]\n",
    "    # TODO: switch plotMethod on condition which/how many characters have been selected\n",
    "    isCharacterPlot=True\n",
    "    \n",
    "    # convert arguments to the expected format for code 181212\n",
    "    mask_characters = [el in characters for el in def_characters]\n",
    "    mask_bands = [el in bands_conved for el in def_bands]\n",
    "    mask_groups = [el in [el for el in groups] for el in def_groups]\n",
    "    \n",
    "    spin = 0\n",
    "    \n",
    "    plot_setup()\n",
    "    plot(mask_bands, mask_characters, mask_groups, spin, unfolding_weight_exponent, isCharacterPlot)"
   ]
  },
  {
   "cell_type": "code",
   "execution_count": null,
   "metadata": {},
   "outputs": [],
   "source": []
  }
 ],
 "metadata": {
  "kernelspec": {
   "display_name": "Python 3",
   "language": "python",
   "name": "python3"
  },
  "language_info": {
   "codemirror_mode": {
    "name": "ipython",
    "version": 3
   },
   "file_extension": ".py",
   "mimetype": "text/x-python",
   "name": "python",
   "nbconvert_exporter": "python",
   "pygments_lexer": "ipython3",
   "version": "3.6.6"
  },
  "toc": {
   "base_numbering": 1,
   "nav_menu": {},
   "number_sections": true,
   "sideBar": true,
   "skip_h1_title": false,
   "title_cell": "Table of Contents",
   "title_sidebar": "Contents",
   "toc_cell": false,
   "toc_position": {},
   "toc_section_display": true,
   "toc_window_display": true
  },
  "varInspector": {
   "cols": {
    "lenName": 16,
    "lenType": 16,
    "lenVar": 40
   },
   "kernels_config": {
    "python": {
     "delete_cmd_postfix": "",
     "delete_cmd_prefix": "del ",
     "library": "var_list.py",
     "varRefreshCmd": "print(var_dic_list())"
    },
    "r": {
     "delete_cmd_postfix": ") ",
     "delete_cmd_prefix": "rm(",
     "library": "var_list.r",
     "varRefreshCmd": "cat(var_dic_list()) "
    }
   },
   "types_to_exclude": [
    "module",
    "function",
    "builtin_function_or_method",
    "instance",
    "_Feature"
   ],
   "window_display": false
  }
 },
 "nbformat": 4,
 "nbformat_minor": 2
}
