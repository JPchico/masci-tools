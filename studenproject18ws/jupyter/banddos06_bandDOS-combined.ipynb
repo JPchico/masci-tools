{
 "cells": [
  {
   "cell_type": "markdown",
   "metadata": {},
   "source": [
    "# Temporary sandbox notebook\n",
    "Only for integrating DOS plot into bandplot experiments.\n",
    "\n",
    "Done here so as not to mess up the main notebook.\n",
    "\n",
    "When done and stable, integrate changes back into main development notebook."
   ]
  },
  {
   "cell_type": "markdown",
   "metadata": {},
   "source": [
    "# Setup"
   ]
  },
  {
   "cell_type": "markdown",
   "metadata": {},
   "source": [
    "## Setup masci-tools path"
   ]
  },
  {
   "cell_type": "code",
   "execution_count": 1,
   "metadata": {},
   "outputs": [],
   "source": [
    "# IMPORTANT: we need to import stuff from masci-tools folder.\n",
    "# Since masci-tools is not installed as a module (yet), the notebook kernel\n",
    "# needs to be started in the masci-tools folder.\n",
    "# If that has not happened for some reason, then need to add the masci-tools\n",
    "# manually to the sys path.\n",
    "import os\n",
    "import sys\n",
    "\n",
    "cwd = os.getcwd()\n",
    "path_mtools = cwd\n",
    "dirname_mtools = \"masci-tools\"\n",
    "# first try if we can get away without needing an absolute path\n",
    "if dirname_mtools in path_mtools:\n",
    "    while os.path.basename(path_mtools) != dirname_mtools:\n",
    "        path_mtools = os.path.split(path_mtools)[0]\n",
    "else:\n",
    "    # okay, try with an absolute path\n",
    "    path_mtools = \"/home/johannes/Desktop/Studium/Kurse_RWTH/SiScLab/18W/repos/masci-tools\"\n",
    "    if not os.path.isdir(path_mtools):\n",
    "        raise IOError(f\"Could not find path to masci-tools. Please specify absolute path.\")\n",
    "\n",
    "# found masci-tools. add to syspath (for imports) and chdir.\n",
    "if path_mtools not in sys.path:\n",
    "    # add only once\n",
    "    sys.path.append(path_mtools)"
   ]
  },
  {
   "cell_type": "markdown",
   "metadata": {},
   "source": [
    "## Setup imports"
   ]
  },
  {
   "cell_type": "code",
   "execution_count": 2,
   "metadata": {},
   "outputs": [],
   "source": [
    "# Jupyter, Python imports\n",
    "import ipywidgets as widgets\n",
    "from ipywidgets import interact, interactive, fixed, interact_manual\n",
    "from IPython.display import display\n",
    "import matplotlib.pyplot as plt\n",
    "import numpy as np\n",
    "\n",
    "#  python 3interactive figures in a live IPython notebook session\n",
    "# if run from jupyter-notebook: MAGICmatplotlib nbagg\n",
    "# if run from jupyter-lab: MAGICmatplotlib widget\n",
    "%matplotlib widget\n",
    "\n",
    "# studentproject18ws imports\n",
    "import os\n",
    "import logging\n",
    "from studenproject18ws.hdf.reader import Reader\n",
    "from studenproject18ws.hdf.recipes import Recipes\n",
    "from studenproject18ws.plot.plot import Bandplot_matplotlib as Bandplot"
   ]
  },
  {
   "cell_type": "code",
   "execution_count": 3,
   "metadata": {},
   "outputs": [],
   "source": [
    "%matplotlib widget"
   ]
  },
  {
   "cell_type": "markdown",
   "metadata": {},
   "source": [
    "## Read file, import data\n",
    "\n",
    "- TODO: link with widget-based file-chooser"
   ]
  },
  {
   "cell_type": "code",
   "execution_count": 4,
   "metadata": {},
   "outputs": [],
   "source": [
    "# # NO DOS file:\n",
    "# filename = 'banddos.hdf'\n",
    "# filename = 'banddos_4x4.hdf'\n",
    "# filename = 'banddos_sodium.hdf'\n",
    "\n",
    "# 1 DOS file:\n",
    "filename = os.path.join('MoSe2', 'banddos_2spin.hdf')\n",
    "filenames_dos = [os.path.join('MoSe2',\"DOS.1\")]\n",
    "\n",
    "# # 2 DOS files:\n",
    "# filename = os.path.join('Co', 'banddos_Co.hdf')\n",
    "# filenames_dos = [os.path.join('Co', 'DOS.1'), os.path.join('Co', 'DOS.2')]\n",
    "\n",
    "filepath = ['..', 'data', 'input', filename]\n",
    "filepath = os.path.join(*filepath)\n",
    "filepaths_dos = [['..', 'data', 'input', fd] for fd in filenames_dos]\n",
    "filepaths_dos = [os.path.join(*fpd) for fpd in filepaths_dos]\n",
    "\n",
    "data = None\n",
    "reader = Reader(filepath=filepath)\n",
    "with reader as h5file:\n",
    "    data = reader.read(recipe=Recipes.Bands)\n",
    "    #\n",
    "    # Note:\n",
    "    # Inside the with statement (context manager),\n",
    "    # all data attributes that are type h5py Dataset are available (in-file access)\n",
    "    # When the statement is left,the HDF5 file gets closed and the datasets are closed.\n",
    "    #\n",
    "    # Use data outside the with-statement (in-memory access: all HDF5 datasets converted to numpy ndarrays):\n",
    "    data.move_datasets_to_memory()"
   ]
  },
  {
   "cell_type": "markdown",
   "metadata": {},
   "source": [
    "### Plotter class"
   ]
  },
  {
   "cell_type": "code",
   "execution_count": 5,
   "metadata": {},
   "outputs": [],
   "source": [
    "bandplotter = Bandplot(data)\n",
    "        "
   ]
  },
  {
   "cell_type": "markdown",
   "metadata": {},
   "source": [
    "# Testing: compare DOS plotting methods without band plot"
   ]
  },
  {
   "cell_type": "code",
   "execution_count": 6,
   "metadata": {},
   "outputs": [
    {
     "data": {
      "application/vnd.jupyter.widget-view+json": {
       "model_id": "d2edeff5a7c44867a4306102c37e8b5e",
       "version_major": 2,
       "version_minor": 0
      },
      "text/plain": [
       "FigureCanvasNbAgg()"
      ]
     },
     "metadata": {},
     "output_type": "display_data"
    },
    {
     "data": {
      "application/vnd.jupyter.widget-view+json": {
       "model_id": "012f00328b8443b39842dcb1313a9b5b",
       "version_major": 2,
       "version_minor": 0
      },
      "text/plain": [
       "FigureCanvasNbAgg()"
      ]
     },
     "metadata": {},
     "output_type": "display_data"
    },
    {
     "name": "stdout",
     "output_type": "stream",
     "text": [
      "get_dos: for selection groups [ True  True  True  True  True  True  True  True  True  True  True  True\n",
      "  True  True  True  True  True  True], characters [False False False False], num_groups 18, atoms_per_group [2. 2. 2. 1. 2. 2. 2. 1. 1. 2. 1. 2. 2. 1. 1. 1. 1. 1.], accessed dos columns: [0, 1, 2, 5, 6, 7, 8, 9, 10, 11, 12, 13, 14, 15, 16, 17, 18, 19, 20, 21, 22]\n"
     ]
    },
    {
     "data": {
      "application/vnd.jupyter.widget-view+json": {
       "model_id": "afb31fce95f8422da25aabce417d8de5",
       "version_major": 2,
       "version_minor": 0
      },
      "text/plain": [
       "FigureCanvasNbAgg()"
      ]
     },
     "metadata": {},
     "output_type": "display_data"
    }
   ],
   "source": [
    "def plot_dos_old(ax_dos, filepath_dos):\n",
    "    dos_data = np.genfromtxt(filepath_dos).T\n",
    "    energy_dos = dos_data[0]\n",
    "    totdos = dos_data[1]\n",
    "    interst = dos_data[2]\n",
    "    vac1 = dos_data[3]\n",
    "    vac2 = dos_data[4]\n",
    "    weights_atomgrps_dos = dos_data[5:]\n",
    "\n",
    "#     ax_dos = fig.add_subplot(111)\n",
    "    ax_dos.plot(totdos, energy_dos)\n",
    "    ax_dos.plot(interst, energy_dos)\n",
    "\n",
    "    #constant 0\n",
    "    ax_dos.plot(vac1, energy_dos)\n",
    "    ax_dos.plot(vac2, energy_dos)\n",
    "\n",
    "    ax_dos.plot((sum(weights_atomgrps_dos)+interst), energy_dos)\n",
    "#     plt.show()\n",
    "\n",
    "\n",
    "# compare our plot_dos (OLD one as of 17.01.19), and masci-tool's plot_dos output.\n",
    "fig, ax = plt.subplots(1)\n",
    "plot_dos_old(ax, filepaths_dos[0])\n",
    "plt.show()\n",
    "\n",
    "plt.clf()\n",
    "fig, ax = plt.subplots(1)\n",
    "sel = data.simulate_gui_selection()\n",
    "bandplotter.plot_dos(filepaths_dos[0], sel.mask_groups, sel.mask_characters,\n",
    "           select_groups=True, interstitial=True, all_characters=True,\n",
    "               ax=ax)\n",
    "# bandplotter.plot_dos(filepaths_dos[0])\n",
    "plt.show()\n",
    "\n",
    "\n",
    "from masci_tools.vis.plot_methods import plot_dos as plot_dos_masci\n",
    "plot_dos_masci(filepaths_dos[0])\n",
    "\n"
   ]
  },
  {
   "cell_type": "markdown",
   "metadata": {},
   "source": [
    "# Define Widgets"
   ]
  },
  {
   "cell_type": "markdown",
   "metadata": {},
   "source": [
    "## Band plot"
   ]
  },
  {
   "cell_type": "markdown",
   "metadata": {},
   "source": [
    "### Define user input arguments"
   ]
  },
  {
   "cell_type": "code",
   "execution_count": 6,
   "metadata": {},
   "outputs": [],
   "source": [
    "# bands = atom_group_keys = e.g. for banddos.hdf: dict_keys[(1,2,3,4,5)]\n",
    "#                           Hm... should better convert to tuple back in reader?\n",
    "def_groups = data.atoms_group_keys\n",
    "select_groups = widgets.SelectMultiple(options=def_groups, \n",
    "                                   value=tuple(def_groups),\n",
    "                                  description='Atom Groups',\n",
    "                                  disabled=False)\n",
    "\n",
    "\n",
    "def_characters = ['s', 'p', 'd', 'f']\n",
    "# Characters = namedtuple('Characters', ['s', 'p', 'd', 'f'])\n",
    "# characters = Characters(0,1,2,3)\n",
    "select_characters = widgets.SelectMultiple(options=def_characters,\n",
    "                                          value=tuple(def_characters),\n",
    "                                          description='Band Character',\n",
    "                                          disabled=False)\n",
    "\n",
    "# number of bands can be large, so use a rangeslider instead of selectionslider\n",
    "def_bands = [band for band in range(data.eigenvalues.shape[2])]\n",
    "select_bands = widgets.IntRangeSlider(value=[def_bands[0]+1,def_bands[-1]+1], \n",
    "                                      min=def_bands[0]+1, max=def_bands[-1]+1, step=1,\n",
    "                                     description='Bands',\n",
    "                                     disabled=False, continuous_update=False,\n",
    "                                     orientation='horizontal', readout=True,\n",
    "                                     readout_format='d')\n",
    "\n",
    "select_exponent = widgets.FloatSlider(\n",
    "    value=1.0,\n",
    "    min=0,\n",
    "    max=4.0,\n",
    "    step=0.01,\n",
    "    description='Unfolding weight exponent',\n",
    "    disabled=False,\n",
    "    continuous_update=False,\n",
    "    orientation='horizontal',\n",
    "    readout=True,\n",
    "    readout_format='.2f')\n",
    "\n",
    "select_marker_size = widgets.FloatSlider(\n",
    "    value=1.0,\n",
    "    min=0,\n",
    "    max=10.0,\n",
    "    step=0.01,\n",
    "    description='Marker size',\n",
    "    continuous_update=False,\n",
    "    orientation='horizontal',\n",
    "    readout=True,\n",
    "    readout_format='.2f')\n",
    "\n",
    "select_compare_characters = widgets.Checkbox(\n",
    "    value=False,\n",
    "    description=\"Compare 2 characters (disabled)\",\n",
    "    disabled=True\n",
    ")\n",
    "\n",
    "# make compare_characters only available when 2 characters are selected\n",
    "def on_character_selection_change(change):\n",
    "    if len(change.new) == 2:\n",
    "        select_compare_characters.disabled = False\n",
    "        select_compare_characters.description = \"Compare 2 characters (enabled)\"\n",
    "    else:\n",
    "        select_compare_characters.disabled = True\n",
    "        select_compare_characters.description = \"Compare 2 characters (disabled)\"\n",
    "select_characters.observe(on_character_selection_change, names='value')\n",
    "\n",
    "# when compare_characters is active, disable select_characters\n",
    "def on_compare_character(change):\n",
    "    select_characters.disabled = change.new\n",
    "select_compare_characters.observe(on_compare_character, names='value')\n",
    "\n",
    "def convert_selections(bands=[], characters=[], groups=[]):\n",
    "    # convert arguments to the expected format for code 181124\n",
    "    bands_conved = range(bands[0]-1,bands[1]) if bands else []\n",
    "    groups_conved = [el-1 for el in groups] if groups else []\n",
    "    characters_conved = [def_characters.index(el) for el in characters] if characters else []\n",
    "    \n",
    "    # convert arguments to the expected format for code 181212\n",
    "    mask_characters = [el in characters for el in def_characters] if characters else []\n",
    "    mask_bands = [el in bands_conved for el in def_bands] if bands else []\n",
    "    mask_groups = [el in [el for el in groups] for el in def_groups] if groups else []\n",
    "    \n",
    "    return (mask_bands, mask_characters, mask_groups)"
   ]
  },
  {
   "cell_type": "markdown",
   "metadata": {},
   "source": [
    "## Try out the new DOS plot method interactively without band plot"
   ]
  },
  {
   "cell_type": "code",
   "execution_count": 8,
   "metadata": {},
   "outputs": [
    {
     "data": {
      "application/vnd.jupyter.widget-view+json": {
       "model_id": "9a49c41566e043d49e68947bbd249e41",
       "version_major": 2,
       "version_minor": 0
      },
      "text/plain": [
       "FigureCanvasNbAgg()"
      ]
     },
     "metadata": {},
     "output_type": "display_data"
    },
    {
     "data": {
      "application/vnd.jupyter.widget-view+json": {
       "model_id": "6b5dc8dbbb8545848cb424eb2b5da0a4",
       "version_major": 2,
       "version_minor": 0
      },
      "text/plain": [
       "interactive(children=(SelectMultiple(description='Band Character', index=(0, 1, 2, 3), options=('s', 'p', 'd',…"
      ]
     },
     "metadata": {},
     "output_type": "display_data"
    }
   ],
   "source": [
    "spin = 0\n",
    "\n",
    "fig_scale = 0.65\n",
    "fig_ratio = [10,6]\n",
    "fig, ax = plt.subplots(1, figsize=[fig_scale * el for el in fig_ratio])\n",
    "plt.suptitle(f\"DOS of {filenames_dos[spin]}\")\n",
    "\n",
    "# plt.clf()\n",
    "# fig, ax = plt.subplots(1)\n",
    "# sel = data.simulate_gui_selection()\n",
    "# bandplotter.dos(filepaths_dos[0], sel.mask_groups, sel.mask_characters,\n",
    "#            select_groups=True, interstitial=True, all_characters=True,\n",
    "#                ax=ax)\n",
    "# plt.show()\n",
    "\n",
    "@interact(characters=select_characters, groups=select_groups, dos_groups_yesno=True, interstitial=True, all_characters=True)\n",
    "def update_plot_dos_test(characters, groups, dos_groups_yesno, interstitial, all_characters):\n",
    "    ax.clear()\n",
    "    (mask_bands, mask_characters, mask_groups) = convert_selections(bands=[], characters=characters, groups=groups)\n",
    "    bandplotter.plot_dos(filepaths_dos[0], mask_groups, mask_characters,\n",
    "           dos_groups_yesno, interstitial, all_characters,\n",
    "               ax=ax, fix_xlim=True)\n"
   ]
  },
  {
   "cell_type": "markdown",
   "metadata": {},
   "source": [
    "## Interact function"
   ]
  },
  {
   "cell_type": "code",
   "execution_count": 9,
   "metadata": {},
   "outputs": [
    {
     "data": {
      "application/vnd.jupyter.widget-view+json": {
       "model_id": "0fac57b9fd04465c90e74ca14e5453d6",
       "version_major": 2,
       "version_minor": 0
      },
      "text/plain": [
       "FigureCanvasNbAgg()"
      ]
     },
     "metadata": {},
     "output_type": "display_data"
    },
    {
     "data": {
      "application/vnd.jupyter.widget-view+json": {
       "model_id": "3586de200e58446790d7394ad1e1419f",
       "version_major": 2,
       "version_minor": 0
      },
      "text/plain": [
       "interactive(children=(IntRangeSlider(value=(1, 303), continuous_update=False, description='Bands', max=303, mi…"
      ]
     },
     "metadata": {},
     "output_type": "display_data"
    }
   ],
   "source": [
    "fig_scale = 0.65\n",
    "fig_ratio = [10,6]\n",
    "fig, (ax, ax_dos) = plt.subplots(1, 2, sharey=True, \n",
    "                                 figsize=[fig_scale * el for el in fig_ratio])\n",
    "ax_dos.set_aspect('auto') #default: 'auto'. other opts: 'equal', ratio (height, number)\n",
    "\n",
    "\n",
    "plt.suptitle(f\"BandStructure of {filename}\")\n",
    "fig.subplots_adjust(wspace=0)\n",
    "\n",
    "plot_dos_old(ax_dos, filepaths_dos[0])\n",
    "\n",
    "\n",
    "@interact(bands=select_bands, characters=select_characters, groups=select_groups, \n",
    "          unfolding_weight_exponent=select_exponent, marker_size=select_marker_size,\n",
    "         compare_characters=select_compare_characters,\n",
    "         dos_groups_yesno=True, interstitial=True, all_characters=True)\n",
    "def update_plot(bands, characters, groups, \n",
    "                unfolding_weight_exponent, marker_size,\n",
    "               compare_characters,\n",
    "               dos_groups_yesno, interstitial, all_characters):\n",
    "    ax.clear()\n",
    "    ax_dos.clear()\n",
    "#     bandplotter.setup(ax)\n",
    "\n",
    "    (mask_bands, mask_characters, mask_groups) = convert_selections(bands, characters, groups)\n",
    "\n",
    "    # TODO: switch button for ignore_atoms_per_group\n",
    "    ignore_atoms_per_group = True #default\n",
    "    spins = [0]\n",
    "    \n",
    "    bandplotter.plot_bands(mask_bands, mask_characters, mask_groups, spins, \n",
    "         unfolding_weight_exponent, compare_characters, ax, ignore_atoms_per_group, marker_size)\n",
    "    bandplotter.plot_dos(filepaths_dos[0], mask_groups, mask_characters,\n",
    "           dos_groups_yesno, interstitial, all_characters,\n",
    "               ax=ax_dos, fix_xlim=True)"
   ]
  },
  {
   "cell_type": "code",
   "execution_count": 10,
   "metadata": {},
   "outputs": [
    {
     "data": {
      "application/vnd.jupyter.widget-view+json": {
       "model_id": "6d8181b9105d4ce88725f6820f3ff25d",
       "version_major": 2,
       "version_minor": 0
      },
      "text/plain": [
       "FigureCanvasNbAgg()"
      ]
     },
     "metadata": {},
     "output_type": "display_data"
    },
    {
     "data": {
      "application/vnd.jupyter.widget-view+json": {
       "model_id": "232e8e3ab24f46ca90ea1e0cf4514e53",
       "version_major": 2,
       "version_minor": 0
      },
      "text/plain": [
       "interactive(children=(IntRangeSlider(value=(1, 303), continuous_update=False, description='Bands', max=303, mi…"
      ]
     },
     "metadata": {},
     "output_type": "display_data"
    }
   ],
   "source": [
    "# Trying new layout with gridspec.\n",
    "# Reference: https://plot.ly/matplotlib/subplots/\n",
    "\n",
    "\n",
    "from matplotlib import gridspec\n",
    "\n",
    "fig_scale = 0.65\n",
    "fig_ratio = [10,6]\n",
    "figsize=[fig_scale * el for el in fig_ratio]\n",
    "\n",
    "fig = plt.figure()\n",
    "gs = gridspec.GridSpec(1, 2)\n",
    "\n",
    "ax = fig.add_subplot(gs[0,0])\n",
    "ax_dos = fig.add_subplot(gs[0,1])\n",
    "gs.update(wspace=0, hspace=0)\n",
    "\n",
    "\n",
    "# fig, (ax, ax_dos) = plt.subplots(1, 2, sharey=True, \n",
    "#                                  figsize=[fig_scale * el for el in fig_ratio])\n",
    "\n",
    "\n",
    "\n",
    "plt.suptitle(f\"BandStructure of {filename}\")\n",
    "\n",
    "\n",
    "@interact(bands=select_bands, characters=select_characters, groups=select_groups, \n",
    "          unfolding_weight_exponent=select_exponent, marker_size=select_marker_size,\n",
    "         compare_characters=select_compare_characters,\n",
    "         dos_groups_yesno=True, interstitial=True, all_characters=True)\n",
    "def update_plot(bands, characters, groups, \n",
    "                unfolding_weight_exponent, marker_size,\n",
    "               compare_characters,\n",
    "               dos_groups_yesno, interstitial, all_characters):\n",
    "    ax.clear()\n",
    "    ax_dos.clear()\n",
    "#     bandplotter.setup(ax)\n",
    "    \n",
    "    (mask_bands, mask_characters, mask_groups) = convert_selections(bands, characters, groups)\n",
    "\n",
    "    # TODO: switch button for ignore_atoms_per_group\n",
    "    ignore_atoms_per_group = True #default\n",
    "    spins = [0]\n",
    "    \n",
    "    bandplotter.plot_bands(mask_bands, mask_characters, mask_groups, spins, \n",
    "         unfolding_weight_exponent, compare_characters, ax, ignore_atoms_per_group, marker_size)\n",
    "    bandplotter.plot_dos(filepaths_dos[0], mask_groups, mask_characters,\n",
    "           dos_groups_yesno, interstitial, all_characters,\n",
    "               ax=ax_dos, fix_xlim=True)"
   ]
  },
  {
   "cell_type": "markdown",
   "metadata": {},
   "source": [
    "# CURRENT layout"
   ]
  },
  {
   "cell_type": "code",
   "execution_count": 8,
   "metadata": {},
   "outputs": [
    {
     "data": {
      "application/vnd.jupyter.widget-view+json": {
       "model_id": "847eb37f174f49ceb5da619a0f7a1e19",
       "version_major": 2,
       "version_minor": 0
      },
      "text/plain": [
       "FigureCanvasNbAgg()"
      ]
     },
     "metadata": {},
     "output_type": "display_data"
    },
    {
     "data": {
      "application/vnd.jupyter.widget-view+json": {
       "model_id": "635df9e91df149659d0edc9fa9ad9be0",
       "version_major": 2,
       "version_minor": 0
      },
      "text/plain": [
       "interactive(children=(IntRangeSlider(value=(1, 303), continuous_update=False, description='Bands', max=303, mi…"
      ]
     },
     "metadata": {},
     "output_type": "display_data"
    }
   ],
   "source": [
    "# Trying new layout with gridspec.\n",
    "# Reference: https://plot.ly/matplotlib/subplots/\n",
    "# Adjust GridSpec layout:\n",
    "# https://matplotlib.org/users/gridspec.html\n",
    "\n",
    "\n",
    "from matplotlib import gridspec\n",
    "\n",
    "fig_scale = 0.65\n",
    "fig_ratio = [12,6]\n",
    "figsize=[fig_scale * el for el in fig_ratio]\n",
    "\n",
    "fig = plt.figure(figsize=figsize)\n",
    "# order: first add dos plot, then band plot.\n",
    "# otherwise labels (.setup() below) will be set on dos instead band plot.\n",
    "gs_dos = gridspec.GridSpec(1, 2)\n",
    "ax_dos = fig.add_subplot(gs_dos[0,1])\n",
    "gs = gridspec.GridSpec(1, 2)\n",
    "ax = fig.add_subplot(gs[0,0], sharey=ax_dos)\n",
    "gs.update(wspace=0, left=0.1, right=1.4)\n",
    "gs_dos.update(left=0.6, right=0.9, wspace=0)\n",
    "plt.setp(ax_dos.get_yticklabels(), visible=False)\n",
    "# gs.tight_layout(fig, rect=[0, 0, 1, 0.97])\n",
    "\n",
    "\n",
    "# fig, (ax, ax_dos) = plt.subplots(1, 2, sharey=True, \n",
    "#                                  figsize=[fig_scale * el for el in fig_ratio])\n",
    "\n",
    "\n",
    "\n",
    "plt.suptitle(f\"BandStructure of {filename}\")\n",
    "\n",
    "\n",
    "@interact(bands=select_bands, characters=select_characters, groups=select_groups, \n",
    "          unfolding_weight_exponent=select_exponent, marker_size=select_marker_size,\n",
    "         compare_characters=select_compare_characters,\n",
    "         dos_groups_yesno=True, interstitial=True, all_characters=True)\n",
    "def update_plot(bands, characters, groups, \n",
    "                unfolding_weight_exponent, marker_size,\n",
    "               compare_characters,\n",
    "               dos_groups_yesno, interstitial, all_characters):\n",
    "    ax.clear()\n",
    "    ax_dos.clear()\n",
    "#     bandplotter.setup(ax)\n",
    "    \n",
    "    \n",
    "    (mask_bands, mask_characters, mask_groups) = convert_selections(bands, characters, groups)\n",
    "\n",
    "    # TODO: switch button for ignore_atoms_per_group\n",
    "    ignore_atoms_per_group = True #default\n",
    "    spin = 0\n",
    "    spins = [spin]\n",
    "\n",
    "    bandplotter.setup(plt)\n",
    "    bandplotter.plot_bands(mask_bands, mask_characters, mask_groups, spins, \n",
    "         unfolding_weight_exponent, compare_characters, ax, ignore_atoms_per_group, marker_size)\n",
    "    bandplotter.plot_dos(filepaths_dos[spin], mask_groups, mask_characters,\n",
    "           dos_groups_yesno, interstitial, all_characters,\n",
    "               ax=ax_dos, fix_xlim=True)\n",
    "#     bandplotter.plot_dos(filepaths_dos[spin], ax=ax_dos, only_total=False)"
   ]
  },
  {
   "cell_type": "markdown",
   "metadata": {},
   "source": [
    "# Exploring DOS files"
   ]
  },
  {
   "cell_type": "code",
   "execution_count": 7,
   "metadata": {},
   "outputs": [
    {
     "data": {
      "text/plain": [
       "[[7, 8], [9, 10], [11, 12], [13, 14]]"
      ]
     },
     "execution_count": 7,
     "metadata": {},
     "output_type": "execute_result"
    }
   ],
   "source": [
    "\n",
    "\n",
    "\n",
    "\n",
    "# find out: DOS file column numbers, vs. band file number of groups and characters\n",
    "from collections import namedtuple\n",
    "\n",
    "Info = namedtuple('Info', ['DOS_columns', 'band_groups', 'band_characters'])\n",
    "Infos = {'mose' : None, 'co1' : None, 'co2' : None}\n",
    "\n",
    "dosdata = {\n",
    "    'mose' : ['..', 'data', 'input', 'MoSe2', \"DOS.1\"],\n",
    "    'co1': ['..', 'data', 'input', 'Co', \"DOS.1\"],\n",
    "    'co2': ['..', 'data', 'input', 'Co', \"DOS.2\"]\n",
    "}\n",
    "for k,v in dosdata.items():\n",
    "    dosdata[k] = os.path.join(*v)\n",
    "    dosdata[k] = np.genfromtxt(dosdata[k]).T\n",
    "#     print(f\"{k} columns x rows: {dosdata[k].shape}\")\n",
    "\n",
    "# # with pandas instead numpy:\n",
    "# import pandas as pd\n",
    "# df = pd.read_csv(test_dospath, sep='\\s+')\n",
    "# header = df.columns[1:] if (df.columns[0].startswith('#')) else df.columns\n",
    "# df = pd.read_csv(test_dospath, sep='\\s+', comment='#', header=None).T\n",
    "\n",
    "banddata_paths = {\n",
    "    'mose' : ['..', 'data', 'input', 'MoSe2', \"banddos_2spin.hdf\"],\n",
    "    'co': ['..', 'data', 'input', 'Co', \"banddos_Co.hdf\"],\n",
    "}\n",
    "banddata = {}\n",
    "for k,v in banddata_paths.items():\n",
    "    banddata_paths[k] = os.path.join(*v)\n",
    "    reader = Reader(banddata_paths[k])\n",
    "    with reader as h5file:\n",
    "        banddata[k] = reader.read(recipe=Recipes.Bands)\n",
    "        banddata[k].move_datasets_to_memory()\n",
    "#     print(f\"banddata {k}: num_groups {banddata[k].num_groups}\")\n",
    "#     print(f\"banddata {k}: num_chars {banddata[k].num_char}\")\n",
    "    \n",
    "\n",
    "\n",
    "Infos['mose'] = Info(\n",
    "    DOS_columns=dosdata['mose'].shape[0], \n",
    "    band_groups=banddata['mose'].num_groups, \n",
    "    band_characters=banddata['mose'].num_char)\n",
    "Infos['co1'] = Info(\n",
    "    DOS_columns=dosdata['co1'].shape[0], \n",
    "    band_groups=banddata['co'].num_groups, \n",
    "    band_characters=banddata['co'].num_char)\n",
    "Infos['co2'] = Info(\n",
    "    DOS_columns=dosdata['co2'].shape[0], \n",
    "    band_groups=banddata['co'].num_groups, \n",
    "    band_characters=banddata['co'].num_char)\n",
    "\n",
    "# print(f\"MoSe2: num_groups * 5 + 5 = {Infos['mose'].band_groups} * 5 + 5 = {Infos['mose'].band_groups * 5 + 5}\")\n",
    "# print(f\"MoSe2: DOS_columns {Infos['mose'].DOS_columns}\")\n",
    "# print(f\"Co   : num_groups * 5 + 5 = {Infos['co1'].band_groups} * 5 + 5 = {Infos['co1'].band_groups * 5 + 5}\")\n",
    "# print(f\"Co   : DOS_columns {Infos['co1'].DOS_columns}\")\n",
    "# print(f\"But MoSe2 and Co DOS files both do only have spd and not spdf set of characters\")\n",
    "\n",
    "# # check if group1 section2 equals section3\n",
    "# d = dosdata['co1']\n",
    "# np.array_equal(d[6], d[8]+d[10]+d[12]+d[14])\n",
    "# # output: False\n",
    "\n",
    "\n",
    "d = dosdata['co1']\n",
    "num_groups = banddata['co'].num_groups\n",
    "num_chars = banddata['co'].num_char\n",
    "indices={\n",
    "    'section1' : list(range(5)),\n",
    "    'section2' : list(range(5, 5+num_groups)),\n",
    "    'section3' : [[5+num_groups+(g) for g in range(c*num_groups,(c+1)*num_groups)] for c in range(num_chars)]\n",
    "}\n",
    "indices['section3']"
   ]
  },
  {
   "cell_type": "code",
   "execution_count": null,
   "metadata": {},
   "outputs": [],
   "source": []
  }
 ],
 "metadata": {
  "kernelspec": {
   "display_name": "Python 3",
   "language": "python",
   "name": "python3"
  },
  "language_info": {
   "codemirror_mode": {
    "name": "ipython",
    "version": 3
   },
   "file_extension": ".py",
   "mimetype": "text/x-python",
   "name": "python",
   "nbconvert_exporter": "python",
   "pygments_lexer": "ipython3",
   "version": "3.6.7"
  },
  "toc": {
   "base_numbering": 1,
   "nav_menu": {},
   "number_sections": true,
   "sideBar": true,
   "skip_h1_title": false,
   "title_cell": "Table of Contents",
   "title_sidebar": "Contents",
   "toc_cell": false,
   "toc_position": {},
   "toc_section_display": true,
   "toc_window_display": true
  },
  "varInspector": {
   "cols": {
    "lenName": 16,
    "lenType": 16,
    "lenVar": 40
   },
   "kernels_config": {
    "python": {
     "delete_cmd_postfix": "",
     "delete_cmd_prefix": "del ",
     "library": "var_list.py",
     "varRefreshCmd": "print(var_dic_list())"
    },
    "r": {
     "delete_cmd_postfix": ") ",
     "delete_cmd_prefix": "rm(",
     "library": "var_list.r",
     "varRefreshCmd": "cat(var_dic_list()) "
    }
   },
   "types_to_exclude": [
    "module",
    "function",
    "builtin_function_or_method",
    "instance",
    "_Feature"
   ],
   "window_display": false
  }
 },
 "nbformat": 4,
 "nbformat_minor": 2
}
