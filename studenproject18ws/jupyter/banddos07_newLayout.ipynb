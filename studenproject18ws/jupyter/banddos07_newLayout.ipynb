{
 "cells": [
  {
   "cell_type": "markdown",
   "metadata": {},
   "source": [
    "Copied from banddos05.\n",
    "Replacing old `@interact` layout with `interactive` layout inside a container widget."
   ]
  },
  {
   "cell_type": "markdown",
   "metadata": {},
   "source": [
    "# Setup"
   ]
  },
  {
   "cell_type": "markdown",
   "metadata": {},
   "source": [
    "## Setup masci-tools path"
   ]
  },
  {
   "cell_type": "code",
   "execution_count": 1,
   "metadata": {},
   "outputs": [],
   "source": [
    "# IMPORTANT: we need to import stuff from masci-tools folder.\n",
    "# Since masci-tools is not installed as a module (yet), the notebook kernel\n",
    "# needs to be started in the masci-tools folder.\n",
    "# If that has not happened for some reason, then need to add the masci-tools\n",
    "# manually to the sys path.\n",
    "import os\n",
    "import sys\n",
    "\n",
    "cwd = os.getcwd()\n",
    "path_mtools = cwd\n",
    "dirname_mtools = \"masci-tools\"\n",
    "# first try if we can get away without needing an absolute path\n",
    "if dirname_mtools in path_mtools:\n",
    "    while os.path.basename(path_mtools) != dirname_mtools:\n",
    "        path_mtools = os.path.split(path_mtools)[0]\n",
    "else:\n",
    "    # okay, try with an absolute path\n",
    "    path_mtools = \"/home/johannes/Desktop/Studium/Kurse_RWTH/SiScLab/18W/repos/masci-tools\"\n",
    "    if not os.path.isdir(path_mtools):\n",
    "        raise IOError(f\"Could not find path to masci-tools. Please specify absolute path.\")\n",
    "\n",
    "# found masci-tools. add to syspath (for imports) and chdir.\n",
    "if path_mtools not in sys.path:\n",
    "    # add only once\n",
    "    sys.path.append(path_mtools)"
   ]
  },
  {
   "cell_type": "markdown",
   "metadata": {},
   "source": [
    "## Setup imports"
   ]
  },
  {
   "cell_type": "code",
   "execution_count": 95,
   "metadata": {},
   "outputs": [],
   "source": [
    "# Jupyter, Python imports\n",
    "import ipywidgets as widgets\n",
    "from ipywidgets import interact, interactive, fixed, interact_manual\n",
    "from IPython.display import display\n",
    "import matplotlib.pyplot as plt\n",
    "import numpy as np\n",
    "\n",
    "#  python 3interactive figures in a live IPython notebook session\n",
    "# if run from jupyter-notebook: MAGICmatplotlib nbagg\n",
    "# if run from jupyter-lab: MAGICmatplotlib widget\n",
    "%matplotlib widget\n",
    "\n",
    "# studentproject18ws imports\n",
    "import os\n",
    "import logging\n",
    "from studenproject18ws.hdf.reader import Reader\n",
    "from studenproject18ws.hdf.recipes import Recipes\n",
    "from studenproject18ws.plot.plot import Bandplot_matplotlib as Bandplot"
   ]
  },
  {
   "cell_type": "markdown",
   "metadata": {},
   "source": [
    "## Read file, import data\n",
    "\n",
    "- TODO: link with widget-based file-chooser"
   ]
  },
  {
   "cell_type": "code",
   "execution_count": 3,
   "metadata": {},
   "outputs": [],
   "source": [
    "# filename = 'MoSe2/banddos.hdf'\n",
    "# filename = 'Co/banddos_Co.hdf'\n",
    "filename = 'banddos_4x4.hdf'\n",
    "# filename = 'banddos_sodium.hdf'\n",
    "# filename = 'banddos_2spin.hdf'\n",
    "\n",
    "filepath = ['..', 'data', 'input', filename]\n",
    "filepath = os.path.join(*filepath)\n",
    "\n",
    "data = None\n",
    "reader = Reader(filepath=filepath)\n",
    "with reader as h5file:\n",
    "    data = reader.read(recipe=Recipes.Bands)\n",
    "    #\n",
    "    # Note:\n",
    "    # Inside the with statement (context manager),\n",
    "    # all data attributes that are type h5py Dataset are available (in-file access)\n",
    "    # When the statement is left,the HDF5 file gets closed and the datasets are closed.\n",
    "    #\n",
    "    # Use data outside the with-statement (in-memory access: all HDF5 datasets converted to numpy ndarrays):\n",
    "    data.move_datasets_to_memory()"
   ]
  },
  {
   "cell_type": "markdown",
   "metadata": {},
   "source": [
    "# Define Widgets"
   ]
  },
  {
   "cell_type": "markdown",
   "metadata": {},
   "source": [
    "## Band plot"
   ]
  },
  {
   "cell_type": "markdown",
   "metadata": {},
   "source": [
    "### Plot function"
   ]
  },
  {
   "cell_type": "code",
   "execution_count": 4,
   "metadata": {},
   "outputs": [],
   "source": [
    "bandplotter = Bandplot(data)\n",
    "\n",
    "def plot(mask_bands, mask_characters, mask_groups, spin, unfolding_weight_exponent, \n",
    "         isCharacterPlot, ax, ignore_atoms_per_group=False, marker_size=1):\n",
    "    alpha=1\n",
    "    if isCharacterPlot:\n",
    "        bandplotter.bands_two_characters(mask_bands, mask_characters, mask_groups, spin, unfolding_weight_exponent, \n",
    "                                         ax, alpha, ignore_atoms_per_group, marker_size)\n",
    "    else:\n",
    "        bandplotter.bands(mask_bands, mask_characters, mask_groups, spin, unfolding_weight_exponent, \n",
    "                          ax, alpha, ignore_atoms_per_group, marker_size)\n",
    "        "
   ]
  },
  {
   "cell_type": "markdown",
   "metadata": {},
   "source": [
    "### Define user input arguments"
   ]
  },
  {
   "cell_type": "code",
   "execution_count": 74,
   "metadata": {},
   "outputs": [
    {
     "name": "stdout",
     "output_type": "stream",
     "text": [
      "(-26.06719531200066, 7.529399581745224)\n"
     ]
    }
   ],
   "source": [
    "ylim_data = bandplotter.get_data_ylim()\n",
    "print(ylim_data)\n",
    "select_ylim = widgets.FloatRangeSlider(\n",
    "    value=ylim_data,\n",
    "    min=ylim_data[0],\n",
    "    max=ylim_data[1],\n",
    "    step=(ylim_data[1]-ylim_data[0])/100,\n",
    "    description='y range',\n",
    "    disabled=False,\n",
    "    continuous_update=False,\n",
    "    orientation='horizontal',\n",
    "    readout=True,\n",
    "    readout_format='.2f',\n",
    "    layout=widgets.Layout(width=\"95%\")\n",
    ")\n",
    "\n",
    "# number of bands can be large, so use a rangeslider instead of selectionslider\n",
    "def_bands = [band for band in range(data.eigenvalues.shape[2])]\n",
    "# select_bands_height = f\"{len(def_bands)*5}px\"\n",
    "select_bands = widgets.IntRangeSlider(\n",
    "    value=[def_bands[0]+1,def_bands[-1]+1],                            \n",
    "    min=def_bands[0]+1, \n",
    "    max=def_bands[-1]+1, \n",
    "    step=1,                                    \n",
    "    description='Bands',                              \n",
    "    disabled=False, \n",
    "    continuous_update=False,                                    \n",
    "    orientation='horizontal',\n",
    "    readout=True,                                   \n",
    "    readout_format='d',\n",
    "    layout=select_ylim.layout\n",
    ")\n",
    "\n",
    "select_exponent = widgets.FloatSlider(\n",
    "    value=1.0,\n",
    "    min=0,\n",
    "    max=4.0,\n",
    "    step=0.01,\n",
    "    description='Unfolding',\n",
    "    disabled=False,\n",
    "    continuous_update=False,\n",
    "    orientation='horizontal',\n",
    "    readout=True,\n",
    "    readout_format='.2f',\n",
    "    layout=select_ylim.layout\n",
    ")\n",
    "\n",
    "select_marker_size = widgets.FloatSlider(\n",
    "    value=1.0,\n",
    "    min=0,\n",
    "    max=10.0,\n",
    "    step=0.01,\n",
    "    description='Marker size',\n",
    "    continuous_update=False,\n",
    "    orientation='horizontal',\n",
    "    readout=True,\n",
    "    readout_format='.2f',\n",
    "    layout=select_ylim.layout\n",
    ")\n",
    "\n",
    "\n",
    "\n",
    "select_compare_characters = widgets.Checkbox(\n",
    "    value=False,\n",
    "    description=\"\",\n",
    "    disabled=True,\n",
    "#     style={'description_width': 'initial'} # for long descriptions\n",
    "#     layout=widgets.Layout(width='30%', height='30%')\n",
    ")\n",
    "\n",
    "def_characters = ['s', 'p', 'd', 'f']\n",
    "# Characters = namedtuple('Characters', ['s', 'p', 'd', 'f'])\n",
    "# characters = Characters(0,1,2,3)\n",
    "select_characters = widgets.SelectMultiple(\n",
    "    options=def_characters,\n",
    "    value=tuple(def_characters),\n",
    "    description='',\n",
    "    disabled=False,\n",
    "#     layout=widgets.Layout(width='120%', height='90%')\n",
    ")\n",
    "\n",
    "# make compare_characters only available when 2 characters are selected\n",
    "def on_character_selection_change(change):\n",
    "    if len(change.new) == 2:\n",
    "        select_compare_characters.disabled = False\n",
    "#         select_compare_characters.description = \"Compare 2 characters (enabled)\"\n",
    "    else:\n",
    "        select_compare_characters.disabled = True\n",
    "#         select_compare_characters.description = \"Compare 2 characters (disabled)\"\n",
    "select_characters.observe(on_character_selection_change, names='value')\n",
    "\n",
    "# when compare_characters is active, disable select_characters\n",
    "def on_compare_character(change):\n",
    "    select_characters.disabled = change.new\n",
    "select_compare_characters.observe(on_compare_character, names='value')\n",
    "\n",
    "\n",
    "\n",
    "# bands = atom_group_keys = e.g. for banddos.hdf: dict_keys[(1,2,3,4,5)]\n",
    "#                           Hm... should better convert to tuple back in reader?\n",
    "def_groups = data.atoms_group_keys\n",
    "# select_groups_height = f\"{len(def_groups)*19}px\" # height just so no scrollbar needed\n",
    "# select_groups_height = f\"{len(def_groups)*10}px\"\n",
    "select_groups = widgets.SelectMultiple(\n",
    "    options=def_groups,                                  \n",
    "    value=tuple(def_groups),                                  \n",
    "    description='',                                  \n",
    "    disabled=False,\n",
    "#     layout=widgets.Layout(width='20%', height='100%')\n",
    ")\n",
    "\n",
    "\n",
    "select_yscale = widgets.Checkbox(\n",
    "    value=False,\n",
    "    description=\"Set y range\",\n",
    "    disabled=False\n",
    ")"
   ]
  },
  {
   "cell_type": "markdown",
   "metadata": {},
   "source": [
    "### Define Layout containers"
   ]
  },
  {
   "cell_type": "code",
   "execution_count": 66,
   "metadata": {},
   "outputs": [
    {
     "data": {
      "application/vnd.jupyter.widget-view+json": {
       "model_id": "a0f94645aae841e5b096af4b9978eebd",
       "version_major": 2,
       "version_minor": 0
      },
      "text/plain": [
       "HBox(children=(VBox(children=(FloatRangeSlider(value=(-26.06719531200066, 7.529399581745224), continuous_updat…"
      ]
     },
     "metadata": {},
     "output_type": "display_data"
    }
   ],
   "source": [
    "box_sliders = widgets.VBox([\n",
    "    select_ylim,\n",
    "    select_bands,\n",
    "    select_exponent,\n",
    "    select_marker_size\n",
    "])\n",
    "box_sliders.layout=widgets.Layout(width='60%')\n",
    "box_characters = widgets.VBox([\n",
    "    widgets.Label(\"Characters\"),\n",
    "    select_characters,\n",
    "#     widgets.HBox([select_compare_characters,widgets.Label('Compare 2')])\n",
    "])\n",
    "# box_characters.layout=widgets.Layout(width='20%')\n",
    "box_groups = widgets.VBox([\n",
    "    widgets.Label(\"Atom Groups\"),\n",
    "    select_groups\n",
    "])\n",
    "# box_groups.layout=widgets.Layout(width='20%')\n",
    "box = widgets.HBox([box_sliders, box_characters, box_groups])\n",
    "\n",
    "display(box)"
   ]
  },
  {
   "cell_type": "code",
   "execution_count": 119,
   "metadata": {},
   "outputs": [
    {
     "data": {
      "application/vnd.jupyter.widget-view+json": {
       "model_id": "21bdbb8c95b24ae1a956c853e92573b5",
       "version_major": 2,
       "version_minor": 0
      },
      "text/plain": [
       "HBox(children=(Box(children=(FloatRangeSlider(value=(-26.06719531200066, 7.193433632807769), continuous_update…"
      ]
     },
     "metadata": {},
     "output_type": "display_data"
    }
   ],
   "source": [
    "layout_auto = widgets.Layout(width='auto') #override default layouts\n",
    "def override_layout(widgetss):\n",
    "    for widget in widgetss:\n",
    "        no_description=(widget.description==\"\")\n",
    "        widget.layout=layout_auto\n",
    "        if no_description:\n",
    "            widget.description=''\n",
    "        \n",
    "def hbox_widget_label(wig, lab, wig_left=True):\n",
    "    if wig_left:\n",
    "        return widgets.HBox([wig,lab])\n",
    "    else:\n",
    "        return widgets.HBox([lab,wig])\n",
    "#     wig.layout=layout_auto\n",
    "#     lab.layout=layout_auto\n",
    "#     hbox_layout = widgets.Layout(\n",
    "#         display='flex',\n",
    "#         flex_flow='row',\n",
    "#         justify_content='space-between'\n",
    "#     ) # this is def of HBox I think\n",
    "#     children = None\n",
    "#     if wig_left:\n",
    "#         children = [wig,lab]\n",
    "#     else:\n",
    "#         children = [lab,wig]\n",
    "#     box = widgets.Box(\n",
    "#         children=children,\n",
    "#         layout=hbox_layout\n",
    "#     )\n",
    "#     return box\n",
    "\n",
    "selects_slider = [\n",
    "    select_ylim,\n",
    "    select_bands,\n",
    "    select_exponent,\n",
    "    select_marker_size\n",
    "]\n",
    "override_layout(selects_slider)\n",
    "layout_box_sliders = widgets.Layout(\n",
    "    display='flex',\n",
    "    flex_flow='column',\n",
    "    align_items='stretch',\n",
    "    border='solid',\n",
    "    width='60%'\n",
    ")\n",
    "box_sliders = widgets.Box(\n",
    "    children=selects_slider,\n",
    "    layout=layout_box_sliders\n",
    ")\n",
    "\n",
    "\n",
    "label_characters = widgets.Label(\"Characters\")\n",
    "label_compare_characters = widgets.Label(\"Compare 2\")\n",
    "selects_character = [\n",
    "    label_characters,\n",
    "    select_characters,\n",
    "    label_compare_characters,\n",
    "    select_compare_characters\n",
    "]\n",
    "override_layout(selects_character)\n",
    "select_characters.description=''\n",
    "# selects_character.append(hbox_widget_label(\n",
    "#     select_compare_characters, \n",
    "#     label_compare_characters, wig_left=False))\n",
    "layout_box_characters = widgets.Layout(\n",
    "    display='flex',\n",
    "    flex_flow='column',\n",
    "    align_items='stretch',\n",
    "    border='solid',\n",
    "    width='20%'\n",
    ")\n",
    "box_characters = widgets.Box(\n",
    "    children=selects_character,\n",
    "    layout=layout_box_characters\n",
    ")\n",
    "\n",
    "\n",
    "label_groups = widgets.Label(\"Atom Groups\")\n",
    "selects_group = [\n",
    "    label_groups,\n",
    "    select_groups\n",
    "]\n",
    "override_layout(selects_group)\n",
    "select_groups.description=''\n",
    "box_groups = widgets.Box(\n",
    "    children=selects_group,\n",
    "    layout=layout_box_characters\n",
    ")\n",
    "\n",
    "dashboard_controls = widgets.HBox([box_sliders, box_characters, box_groups])\n",
    "display(dashboard_controls)"
   ]
  },
  {
   "cell_type": "markdown",
   "metadata": {},
   "source": [
    "## Interact funtion using `interactive`"
   ]
  },
  {
   "cell_type": "code",
   "execution_count": 121,
   "metadata": {},
   "outputs": [
    {
     "data": {
      "application/vnd.jupyter.widget-view+json": {
       "model_id": "d1cf6f2635a4468393de807a6205b686",
       "version_major": 2,
       "version_minor": 0
      },
      "text/plain": [
       "FigureCanvasNbAgg()"
      ]
     },
     "metadata": {},
     "output_type": "display_data"
    },
    {
     "data": {
      "application/vnd.jupyter.widget-view+json": {
       "model_id": "21bdbb8c95b24ae1a956c853e92573b5",
       "version_major": 2,
       "version_minor": 0
      },
      "text/plain": [
       "HBox(children=(Box(children=(FloatRangeSlider(value=(-26.06719531200066, 7.193433632807769), continuous_update…"
      ]
     },
     "metadata": {},
     "output_type": "display_data"
    }
   ],
   "source": [
    "fig_scale = 0.65\n",
    "fig_ratio = [10,6]\n",
    "fig, ax = plt.subplots(1, figsize=[fig_scale * el for el in fig_ratio])\n",
    "plt.suptitle(f\"BandStructure of {filename}\")\n",
    "\n",
    "\n",
    "def update_plot(characters, groups, \n",
    "                unfolding_weight_exponent, marker_size,\n",
    "               compare_characters, ylim, bands):\n",
    "    ax.clear()\n",
    "    ax.set_ylim(ylim)\n",
    "    \n",
    "    # setup plt figure labels\n",
    "    bandplotter.setup(plt)\n",
    "    \n",
    "    # convert arguments to the expected format for code 181124\n",
    "    bands_conved = range(bands[0]-1,bands[1])\n",
    "    groups_conved = [el-1 for el in groups]\n",
    "    characters_conved = [def_characters.index(el) for el in characters]\n",
    "\n",
    "    # TODO: switch button for ignore_atoms_per_group\n",
    "    ignore_atoms_per_group = True #default\n",
    "    \n",
    "    # convert arguments to the expected format for code 181212\n",
    "    mask_characters = [el in characters for el in def_characters]\n",
    "    mask_bands = [el in bands_conved for el in def_bands]\n",
    "    mask_groups = [el in [el for el in groups] for el in def_groups]\n",
    "    \n",
    "    spin = 0\n",
    "    \n",
    "    plot(mask_bands, mask_characters, mask_groups, spin, \n",
    "         unfolding_weight_exponent, compare_characters, ax, ignore_atoms_per_group, marker_size)\n",
    "    plt.show()\n",
    "\n",
    "    \n",
    "interactive_update_plot = interactive(update_plot, characters=select_characters, groups=select_groups, \n",
    "          unfolding_weight_exponent=select_exponent, marker_size=select_marker_size,\n",
    "         compare_characters=select_compare_characters, ylim=select_ylim, bands=select_bands)\n",
    "# plt.show()\n",
    "\n",
    "# dashboard = widgets.VBox()\n",
    "# dashboard_plot = widgets.VBox(interactive_update_plot.children)\n",
    "# dashboard_plot.layout.display='none'\n",
    "# dashboard.children = [dashboard_plot,\n",
    "#                      dashboard_controls]\n",
    "display(dashboard_controls)"
   ]
  },
  {
   "cell_type": "code",
   "execution_count": 107,
   "metadata": {},
   "outputs": [
    {
     "data": {
      "text/plain": [
       "{'_trait_values': {'_model_module': '@jupyter-widgets/controls',\n",
       "  '_model_module_version': '1.4.0',\n",
       "  '_model_name': 'VBoxModel',\n",
       "  '_view_count': None,\n",
       "  '_view_module': '@jupyter-widgets/controls',\n",
       "  '_view_module_version': '1.4.0',\n",
       "  '_view_name': 'VBoxView',\n",
       "  'box_style': '',\n",
       "  '_dom_classes': ('widget-interact',),\n",
       "  'children': (SelectMultiple(description='characters', disabled=True, index=(0, 1), layout=Layout(width='auto'), options=('s', 'p', 'd', 'f'), value=('s', 'p')),\n",
       "   SelectMultiple(description='groups', index=(0, 1, 2, 3, 4, 5, 6, 7, 8, 9, 10, 11, 12, 13, 14, 15, 16, 17, 18, 19), layout=Layout(width='auto'), options=(1, 2, 3, 4, 5, 6, 7, 8, 9, 10, 11, 12, 13, 14, 15, 16, 17, 18, 19, 20), value=(1, 2, 3, 4, 5, 6, 7, 8, 9, 10, 11, 12, 13, 14, 15, 16, 17, 18, 19, 20)),\n",
       "   FloatSlider(value=2.98, continuous_update=False, description='Unfolding', layout=Layout(width='auto'), max=4.0, step=0.01),\n",
       "   FloatSlider(value=6.59, continuous_update=False, description='Marker size', layout=Layout(width='auto'), max=10.0, step=0.01),\n",
       "   Checkbox(value=True, description='compare_characters', layout=Layout(width='auto')),\n",
       "   FloatRangeSlider(value=(-26.06719531200066, 7.193433632807769), continuous_update=False, description='y range', layout=Layout(width='auto'), max=7.529399581745224, min=-26.06719531200066, step=0.3359659489374589),\n",
       "   IntRangeSlider(value=(1, 387), continuous_update=False, description='Bands', layout=Layout(width='auto'), max=387, min=1),\n",
       "   Output()),\n",
       "  'comm': <ipykernel.comm.comm.Comm at 0x7f03f5c70780>,\n",
       "  'keys': ['_dom_classes',\n",
       "   '_model_module',\n",
       "   '_model_module_version',\n",
       "   '_model_name',\n",
       "   '_view_count',\n",
       "   '_view_module',\n",
       "   '_view_module_version',\n",
       "   '_view_name',\n",
       "   'box_style',\n",
       "   'children',\n",
       "   'layout'],\n",
       "  'layout': Layout(),\n",
       "  '_display_callbacks': <ipywidgets.widgets.widget.CallbackDispatcher at 0x7f03f5c70940>,\n",
       "  '_property_lock': {}},\n",
       " '_trait_notifiers': {'comm': {'change': [<traitlets.traitlets.ObserveHandler at 0x7f04243d05f8>]}},\n",
       " '_trait_validators': {},\n",
       " '_cross_validation_lock': False,\n",
       " '_model_id': 'a682c87f661743b8b85f64f68cf25f74',\n",
       " 'result': None,\n",
       " 'args': [],\n",
       " 'kwargs': {'characters': ('s', 'p'),\n",
       "  'groups': (1,\n",
       "   2,\n",
       "   3,\n",
       "   4,\n",
       "   5,\n",
       "   6,\n",
       "   7,\n",
       "   8,\n",
       "   9,\n",
       "   10,\n",
       "   11,\n",
       "   12,\n",
       "   13,\n",
       "   14,\n",
       "   15,\n",
       "   16,\n",
       "   17,\n",
       "   18,\n",
       "   19,\n",
       "   20),\n",
       "  'unfolding_weight_exponent': 2.98,\n",
       "  'marker_size': 6.59,\n",
       "  'compare_characters': True,\n",
       "  'ylim': (-26.06719531200066, 7.193433632807769),\n",
       "  'bands': (1, 387)},\n",
       " 'f': <function __main__.update_plot(characters, groups, unfolding_weight_exponent, marker_size, compare_characters, ylim, bands)>,\n",
       " 'clear_output': True,\n",
       " 'manual': False,\n",
       " 'manual_name': 'Run Interact',\n",
       " 'auto_display': False,\n",
       " 'kwargs_widgets': [SelectMultiple(description='characters', disabled=True, index=(0, 1), layout=Layout(width='auto'), options=('s', 'p', 'd', 'f'), value=('s', 'p')),\n",
       "  SelectMultiple(description='groups', index=(0, 1, 2, 3, 4, 5, 6, 7, 8, 9, 10, 11, 12, 13, 14, 15, 16, 17, 18, 19), layout=Layout(width='auto'), options=(1, 2, 3, 4, 5, 6, 7, 8, 9, 10, 11, 12, 13, 14, 15, 16, 17, 18, 19, 20), value=(1, 2, 3, 4, 5, 6, 7, 8, 9, 10, 11, 12, 13, 14, 15, 16, 17, 18, 19, 20)),\n",
       "  FloatSlider(value=2.98, continuous_update=False, description='Unfolding', layout=Layout(width='auto'), max=4.0, step=0.01),\n",
       "  FloatSlider(value=6.59, continuous_update=False, description='Marker size', layout=Layout(width='auto'), max=10.0, step=0.01),\n",
       "  Checkbox(value=True, description='compare_characters', layout=Layout(width='auto')),\n",
       "  FloatRangeSlider(value=(-26.06719531200066, 7.193433632807769), continuous_update=False, description='y range', layout=Layout(width='auto'), max=7.529399581745224, min=-26.06719531200066, step=0.3359659489374589),\n",
       "  IntRangeSlider(value=(1, 387), continuous_update=False, description='Bands', layout=Layout(width='auto'), max=387, min=1)],\n",
       " 'out': Output()}"
      ]
     },
     "execution_count": 107,
     "metadata": {},
     "output_type": "execute_result"
    }
   ],
   "source": [
    "interactive_update_plot.__dict__"
   ]
  },
  {
   "cell_type": "markdown",
   "metadata": {},
   "source": [
    "## 3D Atoms plot"
   ]
  },
  {
   "cell_type": "code",
   "execution_count": 10,
   "metadata": {},
   "outputs": [
    {
     "data": {
      "application/vnd.jupyter.widget-view+json": {
       "model_id": "a66d1e52b6cf47de910458b49991f400",
       "version_major": 2,
       "version_minor": 0
      },
      "text/plain": [
       "interactive(children=(SelectMultiple(description='Atom Groups', index=(0,), options=(1,), value=(1,)), Output(…"
      ]
     },
     "metadata": {},
     "output_type": "display_data"
    }
   ],
   "source": [
    "import ipyvolume as ipv\n",
    "x, y, z = data.atoms_position.T\n",
    "@interact(groups=select_groups)\n",
    "def update_atoms_plot(groups):\n",
    "    selected_atoms = []\n",
    "    for group in groups:\n",
    "        selected_atoms_group = np.where(data.atoms_group==group)\n",
    "        for selected_atom_group in selected_atoms_group:\n",
    "            selected_atoms.extend(selected_atom_group)\n",
    "    \n",
    "    ipv.figure()\n",
    "    scatter = ipv.scatter(x,y,z, size=5, marker=\"sphere\", selected=selected_atoms, size_selected=8)\n",
    "    ipv.show()\n",
    "\n",
    "    "
   ]
  },
  {
   "cell_type": "code",
   "execution_count": 12,
   "metadata": {},
   "outputs": [
    {
     "data": {
      "text/plain": [
       "(-3.9357437737417897, 11.969520809868719)"
      ]
     },
     "execution_count": 12,
     "metadata": {},
     "output_type": "execute_result"
    }
   ],
   "source": []
  }
 ],
 "metadata": {
  "kernelspec": {
   "display_name": "Python 3",
   "language": "python",
   "name": "python3"
  },
  "language_info": {
   "codemirror_mode": {
    "name": "ipython",
    "version": 3
   },
   "file_extension": ".py",
   "mimetype": "text/x-python",
   "name": "python",
   "nbconvert_exporter": "python",
   "pygments_lexer": "ipython3",
   "version": "3.6.7"
  },
  "toc": {
   "base_numbering": 1,
   "nav_menu": {},
   "number_sections": true,
   "sideBar": true,
   "skip_h1_title": false,
   "title_cell": "Table of Contents",
   "title_sidebar": "Contents",
   "toc_cell": false,
   "toc_position": {},
   "toc_section_display": true,
   "toc_window_display": true
  },
  "varInspector": {
   "cols": {
    "lenName": 16,
    "lenType": 16,
    "lenVar": 40
   },
   "kernels_config": {
    "python": {
     "delete_cmd_postfix": "",
     "delete_cmd_prefix": "del ",
     "library": "var_list.py",
     "varRefreshCmd": "print(var_dic_list())"
    },
    "r": {
     "delete_cmd_postfix": ") ",
     "delete_cmd_prefix": "rm(",
     "library": "var_list.r",
     "varRefreshCmd": "cat(var_dic_list()) "
    }
   },
   "types_to_exclude": [
    "module",
    "function",
    "builtin_function_or_method",
    "instance",
    "_Feature"
   ],
   "window_display": false
  }
 },
 "nbformat": 4,
 "nbformat_minor": 2
}
