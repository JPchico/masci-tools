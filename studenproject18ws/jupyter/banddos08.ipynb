{
 "cells": [
  {
   "cell_type": "markdown",
   "metadata": {},
   "source": [
    "New Here:\n",
    "\n",
    "- widget: ignore_atoms_per_group\n",
    "- widget: spin selection\n",
    "- widget: file chooser"
   ]
  },
  {
   "cell_type": "markdown",
   "metadata": {},
   "source": [
    "# Setup"
   ]
  },
  {
   "cell_type": "markdown",
   "metadata": {},
   "source": [
    "## Setup masci-tools path"
   ]
  },
  {
   "cell_type": "code",
   "execution_count": 1,
   "metadata": {},
   "outputs": [],
   "source": [
    "# IMPORTANT: we need to import stuff from masci-tools folder.\n",
    "# Since masci-tools is not installed as a module (yet), the notebook kernel\n",
    "# needs to be started in the masci-tools folder.\n",
    "# If that has not happened for some reason, then need to add the masci-tools\n",
    "# manually to the sys path.\n",
    "import os\n",
    "import sys\n",
    "\n",
    "cwd = os.getcwd()\n",
    "path_mtools = cwd\n",
    "dirname_mtools = \"masci-tools\"\n",
    "# first try if we can get away without needing an absolute path\n",
    "if dirname_mtools in path_mtools:\n",
    "    while os.path.basename(path_mtools) != dirname_mtools:\n",
    "        path_mtools = os.path.split(path_mtools)[0]\n",
    "else:\n",
    "    # okay, try with an absolute path\n",
    "    path_mtools = \"/home/johannes/Desktop/Studium/Kurse_RWTH/SiScLab/18W/repos/masci-tools\"\n",
    "    if not os.path.isdir(path_mtools):\n",
    "        raise IOError(f\"Could not find path to masci-tools. Please specify absolute path.\")\n",
    "\n",
    "# found masci-tools. add to syspath (for imports) and chdir.\n",
    "if path_mtools not in sys.path:\n",
    "    # add only once\n",
    "    sys.path.append(path_mtools)"
   ]
  },
  {
   "cell_type": "markdown",
   "metadata": {},
   "source": [
    "## Setup imports"
   ]
  },
  {
   "cell_type": "code",
   "execution_count": 22,
   "metadata": {},
   "outputs": [],
   "source": [
    "# Jupyter, Python imports\n",
    "import ipywidgets as widgets\n",
    "from ipywidgets import interact, interactive, fixed, interact_manual\n",
    "from IPython.display import display\n",
    "import matplotlib.pyplot as plt\n",
    "import numpy as np\n",
    "\n",
    "#  python 3interactive figures in a live IPython notebook session\n",
    "# if run from jupyter-notebook: MAGICmatplotlib nbagg\n",
    "# if run from jupyter-lab: MAGICmatplotlib widget\n",
    "%matplotlib widget\n",
    "\n",
    "# studentproject18ws imports\n",
    "import os\n",
    "import logging\n",
    "from studenproject18ws.hdf.reader import Reader\n",
    "from studenproject18ws.hdf.recipes import Recipes\n",
    "from studenproject18ws.plot.plot import Bandplot_matplotlib as Bandplot"
   ]
  },
  {
   "cell_type": "markdown",
   "metadata": {},
   "source": [
    "## Read file, import data\n",
    "\n",
    "- TODO: link with widget-based file-chooser"
   ]
  },
  {
   "cell_type": "code",
   "execution_count": 8,
   "metadata": {},
   "outputs": [],
   "source": [
    "filename = 'banddos.hdf'\n",
    "# filename = 'Co/banddos_Co.hdf'\n",
    "# filename = 'banddos_4x4.hdf'\n",
    "# filename = 'banddos_sodium.hdf'\n",
    "# filename = os.path.join('MoSe2', 'banddos_2spin.hdf')\n",
    "\n",
    "filepath = ['..', 'data', 'input', filename]\n",
    "filepath = os.path.join(*filepath)\n",
    "\n",
    "data = None\n",
    "reader = Reader(filepath=filepath)\n",
    "with reader as h5file:\n",
    "    data = reader.read(recipe=Recipes.Bands)\n",
    "    #\n",
    "    # Note:\n",
    "    # Inside the with statement (context manager),\n",
    "    # all data attributes that are type h5py Dataset are available (in-file access)\n",
    "    # When the statement is left,the HDF5 file gets closed and the datasets are closed.\n",
    "    #\n",
    "    # Use data outside the with-statement (in-memory access: all HDF5 datasets converted to numpy ndarrays):\n",
    "    data.move_datasets_to_memory()"
   ]
  },
  {
   "cell_type": "markdown",
   "metadata": {},
   "source": [
    "# Define Widgets"
   ]
  },
  {
   "cell_type": "markdown",
   "metadata": {},
   "source": [
    "## Band plot"
   ]
  },
  {
   "cell_type": "markdown",
   "metadata": {},
   "source": [
    "### Plot function"
   ]
  },
  {
   "cell_type": "code",
   "execution_count": 15,
   "metadata": {},
   "outputs": [],
   "source": [
    "bandplotter = Bandplot(data)\n",
    "\n",
    "def plot(mask_bands, mask_characters, mask_groups, spin, unfolding_weight_exponent, \n",
    "         compare_characters, ax, ignore_atoms_per_group=False, marker_size=1):\n",
    "    alpha=1\n",
    "    if compare_characters:\n",
    "        bandplotter.bands_two_characters(mask_bands, mask_characters, mask_groups, spin, unfolding_weight_exponent, \n",
    "                                         ax, alpha, ignore_atoms_per_group, marker_size)\n",
    "    else:\n",
    "        bandplotter.bands(mask_bands, mask_characters, mask_groups, spin, unfolding_weight_exponent, \n",
    "                          ax, alpha, ignore_atoms_per_group, marker_size)\n",
    "        "
   ]
  },
  {
   "cell_type": "markdown",
   "metadata": {},
   "source": [
    "### Define user input arguments"
   ]
  },
  {
   "cell_type": "code",
   "execution_count": 29,
   "metadata": {},
   "outputs": [
    {
     "name": "stdout",
     "output_type": "stream",
     "text": [
      "(-11.870973918784317, 5.095462837995634)\n"
     ]
    }
   ],
   "source": [
    "ylim_data = bandplotter.get_data_ylim()\n",
    "print(ylim_data)\n",
    "select_ylim = widgets.FloatRangeSlider(\n",
    "    value=ylim_data,\n",
    "    min=ylim_data[0],\n",
    "    max=ylim_data[1],\n",
    "    step=(ylim_data[1]-ylim_data[0])/100,\n",
    "    description='y range',\n",
    "    disabled=False,\n",
    "    continuous_update=False,\n",
    "    orientation='horizontal',\n",
    "    readout=True,\n",
    "    readout_format='.2f',\n",
    "    layout=widgets.Layout(width=\"95%\")\n",
    ")\n",
    "\n",
    "# number of bands can be large, so use a rangeslider instead of selectionslider\n",
    "def_bands = [band for band in range(data.eigenvalues.shape[2])]\n",
    "# select_bands_height = f\"{len(def_bands)*5}px\"\n",
    "select_bands = widgets.IntRangeSlider(\n",
    "    value=[def_bands[0]+1,def_bands[-1]+1],                            \n",
    "    min=def_bands[0]+1, \n",
    "    max=def_bands[-1]+1, \n",
    "    step=1,                                    \n",
    "    description='Bands',                              \n",
    "    disabled=False, \n",
    "    continuous_update=False,                                    \n",
    "    orientation='horizontal',\n",
    "    readout=True,                                   \n",
    "    readout_format='d',\n",
    "    layout=select_ylim.layout\n",
    ")\n",
    "\n",
    "select_exponent = widgets.FloatSlider(\n",
    "    value=1.0,\n",
    "    min=0,\n",
    "    max=4.0,\n",
    "    step=0.01,\n",
    "    description='Unfolding',\n",
    "    disabled=False,\n",
    "    continuous_update=False,\n",
    "    orientation='horizontal',\n",
    "    readout=True,\n",
    "    readout_format='.2f',\n",
    "    layout=select_ylim.layout\n",
    ")\n",
    "\n",
    "select_marker_size = widgets.FloatSlider(\n",
    "    value=1.0,\n",
    "    min=0,\n",
    "    max=10.0,\n",
    "    step=0.01,\n",
    "    description='Marker size',\n",
    "    continuous_update=False,\n",
    "    orientation='horizontal',\n",
    "    readout=True,\n",
    "    readout_format='.2f',\n",
    "    layout=select_ylim.layout\n",
    ")\n",
    "\n",
    "\n",
    "\n",
    "select_compare_characters = widgets.Checkbox(\n",
    "    value=False,\n",
    "    description=\"\",\n",
    "    disabled=True,\n",
    "#     style={'description_width': 'initial'} # for long descriptions\n",
    "#     layout=widgets.Layout(width='30%', height='30%')\n",
    ")\n",
    "\n",
    "def_characters = ['s', 'p', 'd', 'f']\n",
    "# Characters = namedtuple('Characters', ['s', 'p', 'd', 'f'])\n",
    "# characters = Characters(0,1,2,3)\n",
    "select_characters = widgets.SelectMultiple(\n",
    "    options=def_characters,\n",
    "    value=tuple(def_characters),\n",
    "    description='',\n",
    "    disabled=False,\n",
    "#     layout=widgets.Layout(width='120%', height='90%')\n",
    ")\n",
    "\n",
    "# make compare_characters only available when 2 characters are selected\n",
    "def on_character_selection_change(change):\n",
    "    if len(change.new) == 2:\n",
    "        select_compare_characters.disabled = False\n",
    "#         select_compare_characters.description = \"Compare 2 characters (enabled)\"\n",
    "    else:\n",
    "        select_compare_characters.disabled = True\n",
    "#         select_compare_characters.description = \"Compare 2 characters (disabled)\"\n",
    "select_characters.observe(on_character_selection_change, names='value')\n",
    "\n",
    "# when compare_characters is active, disable select_characters\n",
    "def on_compare_character(change):\n",
    "    select_characters.disabled = change.new\n",
    "select_compare_characters.observe(on_compare_character, names='value')\n",
    "\n",
    "\n",
    "\n",
    "# bands = atom_group_keys = e.g. for banddos.hdf: dict_keys[(1,2,3,4,5)]\n",
    "#                           Hm... should better convert to tuple back in reader?\n",
    "def_groups = data.atoms_group_keys\n",
    "# select_groups_height = f\"{len(def_groups)*19}px\" # height just so no scrollbar needed\n",
    "# select_groups_height = f\"{len(def_groups)*10}px\"\n",
    "select_groups = widgets.SelectMultiple(\n",
    "    options=def_groups,                                  \n",
    "    value=tuple(def_groups),                                  \n",
    "    description='',                                  \n",
    "    disabled=False,\n",
    "#     layout=widgets.Layout(width='20%', height='100%')\n",
    ")\n",
    "\n",
    "\n",
    "select_ignore_apg = widgets.Checkbox(\n",
    "    value=False,\n",
    "    description=\"Ignore atoms per group\",\n",
    "    disabled=False\n",
    ")\n",
    "\n",
    "\n",
    "\n"
   ]
  },
  {
   "cell_type": "markdown",
   "metadata": {},
   "source": [
    "### Define Layout containers"
   ]
  },
  {
   "cell_type": "code",
   "execution_count": 17,
   "metadata": {},
   "outputs": [],
   "source": [
    "# box_sliders = widgets.VBox([\n",
    "#     select_ylim,\n",
    "#     select_bands,\n",
    "#     select_exponent,\n",
    "#     select_marker_size\n",
    "# ])\n",
    "# box_sliders.layout=widgets.Layout(width='60%')\n",
    "# box_characters = widgets.VBox([\n",
    "#     widgets.Label(\"Characters\"),\n",
    "#     select_characters,\n",
    "# #     widgets.HBox([select_compare_characters,widgets.Label('Compare 2')])\n",
    "# ])\n",
    "# # box_characters.layout=widgets.Layout(width='20%')\n",
    "# box_groups = widgets.VBox([\n",
    "#     widgets.Label(\"Atom Groups\"),\n",
    "#     select_groups\n",
    "# ])\n",
    "# # box_groups.layout=widgets.Layout(width='20%')\n",
    "# box = widgets.HBox([box_sliders, box_characters, box_groups])\n",
    "\n",
    "# display(box)"
   ]
  },
  {
   "cell_type": "code",
   "execution_count": 26,
   "metadata": {},
   "outputs": [
    {
     "data": {
      "application/vnd.jupyter.widget-view+json": {
       "model_id": "29acc103425541ffb029b0ef166da639",
       "version_major": 2,
       "version_minor": 0
      },
      "text/plain": [
       "HBox(children=(Box(children=(FloatRangeSlider(value=(-6.27205, 4.925798470427836), continuous_update=False, de…"
      ]
     },
     "metadata": {},
     "output_type": "display_data"
    }
   ],
   "source": [
    "layout_auto = widgets.Layout(width='auto') #override default layouts\n",
    "def override_layout(widgetss):\n",
    "    for widget in widgetss:\n",
    "        no_description=(widget.description==\"\")\n",
    "        widget.layout=layout_auto\n",
    "        if no_description:\n",
    "            widget.description=''\n",
    "        \n",
    "def hbox_widget_label(wig, lab, wig_left=True):\n",
    "    if wig_left:\n",
    "        return widgets.HBox([wig,lab])\n",
    "    else:\n",
    "        return widgets.HBox([lab,wig])\n",
    "#     wig.layout=layout_auto\n",
    "#     lab.layout=layout_auto\n",
    "#     hbox_layout = widgets.Layout(\n",
    "#         display='flex',\n",
    "#         flex_flow='row',\n",
    "#         justify_content='space-between'\n",
    "#     ) # this is def of HBox I think\n",
    "#     children = None\n",
    "#     if wig_left:\n",
    "#         children = [wig,lab]\n",
    "#     else:\n",
    "#         children = [lab,wig]\n",
    "#     box = widgets.Box(\n",
    "#         children=children,\n",
    "#         layout=hbox_layout\n",
    "#     )\n",
    "#     return box\n",
    "\n",
    "selects_slider = [\n",
    "    select_ylim,\n",
    "    select_bands,\n",
    "    select_exponent,\n",
    "    select_marker_size\n",
    "]\n",
    "override_layout(selects_slider)\n",
    "layout_box_sliders = widgets.Layout(\n",
    "    display='flex',\n",
    "    flex_flow='column',\n",
    "    align_items='stretch',\n",
    "    border='solid',\n",
    "    width='60%'\n",
    ")\n",
    "box_sliders = widgets.Box(\n",
    "    children=selects_slider,\n",
    "    layout=layout_box_sliders\n",
    ")\n",
    "\n",
    "\n",
    "label_characters = widgets.Label(\"Characters\")\n",
    "label_compare_characters = widgets.Label(\"Compare 2\")\n",
    "selects_character = [\n",
    "    label_characters,\n",
    "    select_characters,\n",
    "    label_compare_characters,\n",
    "    select_compare_characters\n",
    "]\n",
    "override_layout(selects_character)\n",
    "select_characters.description=''\n",
    "# selects_character.append(hbox_widget_label(\n",
    "#     select_compare_characters, \n",
    "#     label_compare_characters, wig_left=False))\n",
    "layout_box_characters = widgets.Layout(\n",
    "    display='flex',\n",
    "    flex_flow='column',\n",
    "    align_items='stretch',\n",
    "    border='solid',\n",
    "    width='20%'\n",
    ")\n",
    "box_characters = widgets.Box(\n",
    "    children=selects_character,\n",
    "    layout=layout_box_characters\n",
    ")\n",
    "\n",
    "\n",
    "label_groups = widgets.Label(\"Atom Groups\")\n",
    "selects_group = [\n",
    "    label_groups,\n",
    "    select_groups\n",
    "]\n",
    "override_layout(selects_group)\n",
    "select_groups.description=''\n",
    "box_groups = widgets.Box(\n",
    "    children=selects_group,\n",
    "    layout=layout_box_characters\n",
    ")\n",
    "\n",
    "dashboard_controls = widgets.HBox([box_sliders, box_characters, box_groups])\n",
    "display(dashboard_controls)"
   ]
  },
  {
   "cell_type": "markdown",
   "metadata": {},
   "source": [
    "## Interact funtion using `interactive`"
   ]
  },
  {
   "cell_type": "code",
   "execution_count": 30,
   "metadata": {},
   "outputs": [
    {
     "data": {
      "application/vnd.jupyter.widget-view+json": {
       "model_id": "18050f20ec4e447daefbb05553107dbe",
       "version_major": 2,
       "version_minor": 0
      },
      "text/plain": [
       "FigureCanvasNbAgg()"
      ]
     },
     "metadata": {},
     "output_type": "display_data"
    },
    {
     "data": {
      "application/vnd.jupyter.widget-view+json": {
       "model_id": "29acc103425541ffb029b0ef166da639",
       "version_major": 2,
       "version_minor": 0
      },
      "text/plain": [
       "HBox(children=(Box(children=(FloatRangeSlider(value=(-11.70131, 4.925798470427836), continuous_update=False, d…"
      ]
     },
     "metadata": {},
     "output_type": "display_data"
    },
    {
     "data": {
      "application/vnd.jupyter.widget-view+json": {
       "model_id": "c0d3ef9200864abaa4bb691b57b215c6",
       "version_major": 2,
       "version_minor": 0
      },
      "text/plain": [
       "Checkbox(value=False, description='Ignore atoms per group')"
      ]
     },
     "metadata": {},
     "output_type": "display_data"
    }
   ],
   "source": [
    "fig_scale = 0.65\n",
    "fig_ratio = [10,6]\n",
    "fig, ax = plt.subplots(1, figsize=[fig_scale * el for el in fig_ratio])\n",
    "plt.suptitle(f\"BandStructure of {filename}\")\n",
    "\n",
    "\n",
    "def update_plot(characters, groups, \n",
    "                unfolding_weight_exponent, marker_size,\n",
    "               compare_characters, ylim, bands, ignore_atoms_per_group):\n",
    "    ax.clear()\n",
    "    ax.set_ylim(ylim)\n",
    "    \n",
    "    # setup plt figure labels\n",
    "    bandplotter.setup(plt)\n",
    "    \n",
    "    # convert arguments to the expected format for code 181124\n",
    "    bands_conved = range(bands[0]-1,bands[1])\n",
    "    groups_conved = [el-1 for el in groups]\n",
    "    characters_conved = [def_characters.index(el) for el in characters]\n",
    "    \n",
    "    # convert arguments to the expected format for code 181212\n",
    "    mask_characters = [el in characters for el in def_characters]\n",
    "    mask_bands = [el in bands_conved for el in def_bands]\n",
    "    mask_groups = [el in [el for el in groups] for el in def_groups]\n",
    "    \n",
    "    spin = 0\n",
    "    \n",
    "    plot(mask_bands, mask_characters, mask_groups, spin, \n",
    "         unfolding_weight_exponent, compare_characters, ax, ignore_atoms_per_group, marker_size)\n",
    "    plt.show()\n",
    "\n",
    "    \n",
    "interactive_update_plot = interactive(update_plot, characters=select_characters, groups=select_groups, \n",
    "          unfolding_weight_exponent=select_exponent, marker_size=select_marker_size,\n",
    "         compare_characters=select_compare_characters, ylim=select_ylim, bands=select_bands,\n",
    "                                     ignore_atoms_per_group=select_ignore_apg)\n",
    "\n",
    "\n",
    "# dashboard = widgets.VBox()\n",
    "# dashboard_plot = widgets.VBox(interactive_update_plot.children)\n",
    "# dashboard_plot.layout.display='none'\n",
    "# dashboard.children = [dashboard_plot,\n",
    "#                      dashboard_controls]\n",
    "\n",
    "select_characters.description=''\n",
    "select_groups.description=''\n",
    "display(dashboard_controls)\n",
    "display(select_ignore_apg)"
   ]
  },
  {
   "cell_type": "markdown",
   "metadata": {},
   "source": [
    "## 3D Atoms plot"
   ]
  },
  {
   "cell_type": "code",
   "execution_count": 11,
   "metadata": {},
   "outputs": [
    {
     "data": {
      "application/vnd.jupyter.widget-view+json": {
       "model_id": "456b1e9edd004cccbcfbd7eacb600100",
       "version_major": 2,
       "version_minor": 0
      },
      "text/plain": [
       "interactive(children=(SelectMultiple(description='groups', index=(0, 1, 2, 3, 4, 5, 6, 7, 8, 9, 10, 11, 12, 13…"
      ]
     },
     "metadata": {},
     "output_type": "display_data"
    }
   ],
   "source": [
    "import ipyvolume as ipv\n",
    "x, y, z = data.atoms_position.T\n",
    "@interact(groups=select_groups)\n",
    "def update_atoms_plot(groups):\n",
    "    selected_atoms = []\n",
    "    for group in groups:\n",
    "        selected_atoms_group = np.where(data.atoms_group==group)\n",
    "        for selected_atom_group in selected_atoms_group:\n",
    "            selected_atoms.extend(selected_atom_group)\n",
    "    \n",
    "    ipv.figure()\n",
    "    scatter = ipv.scatter(x,y,z, size=5, marker=\"sphere\", selected=selected_atoms, size_selected=8)\n",
    "    ipv.show()\n",
    "\n",
    "    "
   ]
  },
  {
   "cell_type": "code",
   "execution_count": 12,
   "metadata": {},
   "outputs": [
    {
     "data": {
      "text/plain": [
       "(-3.9357437737417897, 11.969520809868719)"
      ]
     },
     "execution_count": 12,
     "metadata": {},
     "output_type": "execute_result"
    }
   ],
   "source": []
  }
 ],
 "metadata": {
  "kernelspec": {
   "display_name": "Python 3",
   "language": "python",
   "name": "python3"
  },
  "language_info": {
   "codemirror_mode": {
    "name": "ipython",
    "version": 3
   },
   "file_extension": ".py",
   "mimetype": "text/x-python",
   "name": "python",
   "nbconvert_exporter": "python",
   "pygments_lexer": "ipython3",
   "version": "3.6.7"
  },
  "toc": {
   "base_numbering": 1,
   "nav_menu": {},
   "number_sections": true,
   "sideBar": true,
   "skip_h1_title": false,
   "title_cell": "Table of Contents",
   "title_sidebar": "Contents",
   "toc_cell": false,
   "toc_position": {},
   "toc_section_display": true,
   "toc_window_display": true
  },
  "varInspector": {
   "cols": {
    "lenName": 16,
    "lenType": 16,
    "lenVar": 40
   },
   "kernels_config": {
    "python": {
     "delete_cmd_postfix": "",
     "delete_cmd_prefix": "del ",
     "library": "var_list.py",
     "varRefreshCmd": "print(var_dic_list())"
    },
    "r": {
     "delete_cmd_postfix": ") ",
     "delete_cmd_prefix": "rm(",
     "library": "var_list.r",
     "varRefreshCmd": "cat(var_dic_list()) "
    }
   },
   "types_to_exclude": [
    "module",
    "function",
    "builtin_function_or_method",
    "instance",
    "_Feature"
   ],
   "window_display": false
  }
 },
 "nbformat": 4,
 "nbformat_minor": 2
}
