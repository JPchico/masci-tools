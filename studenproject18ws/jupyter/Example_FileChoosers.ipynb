{
 "cells": [
  {
   "cell_type": "markdown",
   "metadata": {},
   "source": [
    "# Intro\n",
    "\n",
    "There are two separate definitions here:\n",
    "- [file upload](https://groups.google.com/d/msg/jupyter/EmsrRq3bs3M/Fo6_BSCqBwAJ)\n",
    "- file selection\n",
    "    \n",
    "The first one is for the case of a deployed app running on some remote server, and the user wants to upload some files there. Potentially much more complicated. Don't worry about it until deployment.\n",
    "\n",
    "The second one is for local usage (Jupyter runs on `localhost`). In that case a simple file selection widget suffices. \n",
    "\n",
    "Go with the second one for the presentation."
   ]
  },
  {
   "cell_type": "markdown",
   "metadata": {},
   "source": [
    "## For presentation: File selection\n",
    "\n",
    "Note: The simplest solution would be to just provide a static text box in which the user should paste the rel. or abs. filepath. However, I want a graphical filebrowser. Preferably one that uses the system file browser (Qt via PySide2 over Tkinter and ipywidgets)."
   ]
  },
  {
   "cell_type": "markdown",
   "metadata": {},
   "source": [
    "## For deployment: File upload\n",
    "For the deployment as a standalone app, the first one has to be used.\n",
    "Could do it like this:\n",
    "- upload file to code base in a tmp folder\n",
    "- delete file policy:\n",
    "  - either user-selection or when app is closed (how?)\n",
    "  - or a cron job that deletes files regularly"
   ]
  },
  {
   "cell_type": "markdown",
   "metadata": {},
   "source": [
    "# Try out different Jupyter FileChooser solutions\n",
    "\n",
    "FileChooser synonyms:\n",
    "- file selector\n",
    "- file selection widget\n",
    "- file browser"
   ]
  },
  {
   "cell_type": "markdown",
   "metadata": {},
   "source": [
    "## NO: With HTML5 + JS only\n",
    "Source: https://stackoverflow.com/questions/27551399/ipython-notebook-open-file-dialog-retrieve-the-full-path\n",
    "\n",
    "Problems:\n",
    "- can't access `fname`\n",
    "- `file_selector` cannot access absolute filepath due to security"
   ]
  },
  {
   "cell_type": "code",
   "execution_count": 5,
   "metadata": {},
   "outputs": [
    {
     "data": {
      "text/html": [
       "\n",
       "<div style=\"border:solid navy; padding:20px;\">\n",
       "<input type=\"file\" id=\"file_selector\" name=\"files[]\"/>\n",
       "<output id=\"list\"></output>\n",
       "</div>\n",
       "\n",
       "<script type=\"text/Javascript\">\n",
       "  function handleFileSelect(evt) {\n",
       "    var kernel = IPython.notebook.kernel;\n",
       "    var files = evt.target.files; // FileList object\n",
       "    console.log('Executing orig')\n",
       "    console.log(files)\n",
       "    // files is a FileList of File objects. List some properties.\n",
       "    var output = [];\n",
       "    var f = files[0]\n",
       "    output.push('<li><strong>', escape(f.name), '</strong> (', f.type || 'n/a', ') - ',\n",
       "                  f.size, ' bytes, last modified: ',\n",
       "                  f.lastModifiedDate ? f.lastModifiedDate.toLocaleDateString() : 'n/a',\n",
       "                  '</_Mli>');\n",
       "    document.getElementById('list').innerHTML = '<ul>' + output.join('') + '</ul>';\n",
       "    var command = 'fname = \"' + f.name + '\"'\n",
       "    console.log(command)\n",
       "    kernel.execute(command);\n",
       "  }\n",
       "\n",
       "  document.getElementById('file_selector').addEventListener('change', handleFileSelect, false);\n",
       "</script>\n"
      ],
      "text/plain": [
       "<IPython.core.display.HTML object>"
      ]
     },
     "metadata": {},
     "output_type": "display_data"
    }
   ],
   "source": [
    "input_form = \"\"\"\n",
    "<div style=\"border:solid navy; padding:20px;\">\n",
    "<input type=\"file\" id=\"file_selector\" name=\"files[]\"/>\n",
    "<output id=\"list\"></output>\n",
    "</div>\n",
    "\"\"\"\n",
    "\n",
    "javascript = \"\"\"\n",
    "<script type=\"text/Javascript\">\n",
    "  function handleFileSelect(evt) {\n",
    "    var kernel = IPython.notebook.kernel;\n",
    "    var files = evt.target.files; // FileList object\n",
    "    console.log('Executing orig')\n",
    "    console.log(files)\n",
    "    // files is a FileList of File objects. List some properties.\n",
    "    var output = [];\n",
    "    var f = files[0]\n",
    "    output.push('<li><strong>', escape(f.name), '</strong> (', f.type || 'n/a', ') - ',\n",
    "                  f.size, ' bytes, last modified: ',\n",
    "                  f.lastModifiedDate ? f.lastModifiedDate.toLocaleDateString() : 'n/a',\n",
    "                  '</_Mli>');\n",
    "    document.getElementById('list').innerHTML = '<ul>' + output.join('') + '</ul>';\n",
    "    var command = 'fname = \"' + f.name + '\"'\n",
    "    console.log(command)\n",
    "    kernel.execute(command);\n",
    "  }\n",
    "\n",
    "  document.getElementById('file_selector').addEventListener('change', handleFileSelect, false);\n",
    "</script>\n",
    "\"\"\"\n",
    "\n",
    "def file_selector():\n",
    "    from IPython.display import HTML, display\n",
    "    display(HTML(input_form + javascript))\n",
    "\n",
    "\n",
    "file_selector()\n"
   ]
  },
  {
   "cell_type": "markdown",
   "metadata": {},
   "source": [
    "## NO: Custom-built widget from DrDub\n",
    "Reference:\n",
    "- https://gist.github.com/DrDub/6efba6e522302e43d055\n",
    "- http://duboue.net/blog14.html\n",
    "\n",
    "See also the correction tips there!\n",
    "\n",
    "Problems:\n",
    "- no widget to display file path"
   ]
  },
  {
   "cell_type": "code",
   "execution_count": 14,
   "metadata": {},
   "outputs": [],
   "source": [
    "import os\n",
    "\n",
    "import ipywidgets as widgets\n",
    "\n",
    "\n",
    "class FileBrowser(object):\n",
    "    def __init__(self):\n",
    "        self.path = os.getcwd()\n",
    "        self._update_files()\n",
    "        \n",
    "    def _update_files(self):\n",
    "        self.files = list()\n",
    "        self.dirs = list()\n",
    "        if(os.path.isdir(self.path)):\n",
    "            for f in os.listdir(self.path):\n",
    "                ff = self.path + \"/\" + f\n",
    "                if os.path.isdir(ff):\n",
    "                    self.dirs.append(f)\n",
    "                else:\n",
    "                    self.files.append(f)\n",
    "        \n",
    "    def widget(self):\n",
    "        box = widgets.VBox()\n",
    "        self._update(box)\n",
    "        return box\n",
    "    \n",
    "    def _update(self, box):\n",
    "        \n",
    "        def on_click(b):\n",
    "            if b.description == '..':\n",
    "                self.path = os.path.split(self.path)[0]\n",
    "            else:\n",
    "                self.path = self.path + \"/\" + b.description\n",
    "            self._update_files()\n",
    "            self._update(box)\n",
    "        \n",
    "        buttons = []\n",
    "        if self.files:\n",
    "            button = widgets.Button(description='..', background_color='#d0d0ff')\n",
    "            button.on_click(on_click)\n",
    "            buttons.append(button)\n",
    "        for f in self.dirs:\n",
    "            button = widgets.Button(description=f, background_color='#d0d0ff')\n",
    "            button.on_click(on_click)\n",
    "            buttons.append(button)\n",
    "        for f in self.files:\n",
    "            button = widgets.Button(description=f)\n",
    "            button.on_click(on_click)\n",
    "            buttons.append(button)\n",
    "        box.children = tuple([widgets.HTML(\"<h2>%s</h2>\" % (self.path,))] + buttons)"
   ]
  },
  {
   "cell_type": "code",
   "execution_count": 15,
   "metadata": {},
   "outputs": [
    {
     "data": {
      "application/vnd.jupyter.widget-view+json": {
       "model_id": "82ef05ecd0784a38a7b15012225b71e1",
       "version_major": 2,
       "version_minor": 0
      },
      "text/plain": [
       "VBox(children=(HTML(value='<h2>/home/johannes/Desktop/Studium/Kurse_RWTH/SiScLab/18W/repos/masci-tools/studenp…"
      ]
     },
     "metadata": {},
     "output_type": "display_data"
    }
   ],
   "source": [
    "# example usage:\n",
    "f = FileBrowser()\n",
    "f.widget()\n",
    "#   <interact with widget, select a path>"
   ]
  },
  {
   "cell_type": "code",
   "execution_count": 16,
   "metadata": {},
   "outputs": [
    {
     "data": {
      "text/plain": [
       "'/home/johannes/Desktop/Studium/Kurse_RWTH/SiScLab/18W/repos/jupyter/appmode'"
      ]
     },
     "execution_count": 16,
     "metadata": {},
     "output_type": "execute_result"
    }
   ],
   "source": [
    "# in a separate cell:\n",
    "f.path # returns the selected path"
   ]
  },
  {
   "cell_type": "markdown",
   "metadata": {},
   "source": [
    "## YES: Using `Tkinter`\n",
    "Reference: https://codereview.stackexchange.com/questions/162920/file-selection-button-for-jupyter-notebook\n",
    "\n",
    "Problems:\n",
    "- This works fine for me (JupyterLab, Python 3.5)!"
   ]
  },
  {
   "cell_type": "code",
   "execution_count": 5,
   "metadata": {},
   "outputs": [],
   "source": [
    "import traitlets\n",
    "from ipywidgets import widgets\n",
    "from IPython.display import display\n",
    "from tkinter import Tk, filedialog\n",
    "\n",
    "\n",
    "class SelectFilesButton(widgets.Button):\n",
    "    \"\"\"A file widget that leverages tkinter.filedialog.\"\"\"\n",
    "\n",
    "    def __init__(self):\n",
    "        super(SelectFilesButton, self).__init__()\n",
    "        # Add the selected_files trait\n",
    "        self.add_traits(files=traitlets.traitlets.List())\n",
    "        # Create the button.\n",
    "        self.description = \"Select Files\"\n",
    "        self.icon = \"square-o\"\n",
    "        self.style.button_color = \"orange\"\n",
    "        # Set on click behavior.\n",
    "        self.on_click(self.select_files)\n",
    "\n",
    "    @staticmethod\n",
    "    def select_files(b):\n",
    "        \"\"\"Generate instance of tkinter.filedialog.\n",
    "\n",
    "        Parameters\n",
    "        ----------\n",
    "        b : obj:\n",
    "            An instance of ipywidgets.widgets.Button \n",
    "        \"\"\"\n",
    "        # Create Tk root\n",
    "        root = Tk()\n",
    "        # Hide the main window\n",
    "        root.withdraw()\n",
    "        # Raise the root to the top of all windows.\n",
    "        root.call('wm', 'attributes', '.', '-topmost', True)\n",
    "        # List of selected fileswill be set to b.value\n",
    "        b.files = filedialog.askopenfilename(multiple=True)\n",
    "\n",
    "        b.description = \"Files Selected\"\n",
    "        b.icon = \"check-square-o\"\n",
    "        b.style.button_color = \"lightgreen\""
   ]
  },
  {
   "cell_type": "code",
   "execution_count": 8,
   "metadata": {},
   "outputs": [],
   "source": [
    "my_button = SelectFilesButton()"
   ]
  },
  {
   "cell_type": "code",
   "execution_count": 10,
   "metadata": {},
   "outputs": [
    {
     "data": {
      "application/vnd.jupyter.widget-view+json": {
       "model_id": "94d2147dab76467b9807590fb7fd6180",
       "version_major": 2,
       "version_minor": 0
      },
      "text/plain": [
       "SelectFilesButton(description='Select Files', icon='square-o', style=ButtonStyle(button_color='orange'))"
      ]
     },
     "metadata": {},
     "output_type": "display_data"
    }
   ],
   "source": [
    "display(my_button) # This will display the button in the context of Jupyter Notebook"
   ]
  },
  {
   "cell_type": "code",
   "execution_count": 52,
   "metadata": {},
   "outputs": [
    {
     "data": {
      "text/plain": [
       "['/home/johannes/credentials.htpasswd']"
      ]
     },
     "execution_count": 52,
     "metadata": {},
     "output_type": "execute_result"
    }
   ],
   "source": [
    "# In a different cell of the same Jupyter Notebook You can access the file list by using the following:\n",
    "my_button.files"
   ]
  },
  {
   "cell_type": "markdown",
   "metadata": {},
   "source": [
    "### Extension: display selected filepaths in textfields"
   ]
  },
  {
   "cell_type": "code",
   "execution_count": 51,
   "metadata": {},
   "outputs": [
    {
     "data": {
      "application/vnd.jupyter.widget-view+json": {
       "model_id": "d8eab45e97ec46eca32faa52151b20d2",
       "version_major": 2,
       "version_minor": 0
      },
      "text/plain": [
       "SelectFilesButton(description='Select Files', icon='square-o', style=ButtonStyle(button_color='red'))"
      ]
     },
     "metadata": {},
     "output_type": "display_data"
    },
    {
     "data": {
      "application/vnd.jupyter.widget-view+json": {
       "model_id": "ffefefcaef47443db3bbf82aff19ca40",
       "version_major": 2,
       "version_minor": 0
      },
      "text/plain": [
       "VBox()"
      ]
     },
     "metadata": {},
     "output_type": "display_data"
    }
   ],
   "source": [
    "import os\n",
    "tfbox = widgets.VBox()\n",
    "class SelectFilesButton(widgets.Button):\n",
    "    \"\"\"A file widget that leverages tkinter.filedialog.\"\"\"\n",
    "\n",
    "    def __init__(self, tfbox):\n",
    "        super(SelectFilesButton, self).__init__()\n",
    "        # Add the selected_files trait\n",
    "        self.add_traits(files=traitlets.traitlets.List())\n",
    "        # Create the button.\n",
    "        self.description = \"Select Files\"\n",
    "        self.icon = \"square-o\"\n",
    "        self.style.button_color = \"red\"\n",
    "        # Set on click behavior.\n",
    "        self.on_click(self.select_files)\n",
    "        self.tfbox = tfbox\n",
    "\n",
    "    @staticmethod\n",
    "    def select_files(b):\n",
    "        \"\"\"Generate instance of tkinter.filedialog.\n",
    "\n",
    "        Parameters\n",
    "        ----------\n",
    "        b : obj:\n",
    "            An instance of ipywidgets.widgets.Button \n",
    "        \"\"\"\n",
    "        # Create Tk root\n",
    "        root = Tk()\n",
    "        # Hide the main window\n",
    "        root.withdraw()\n",
    "        # Raise the root to the top of all windows.\n",
    "        root.call('wm', 'attributes', '.', '-topmost', True)\n",
    "        # List of selected fileswill be set to b.value\n",
    "        b.files = filedialog.askopenfilename(multiple=True)\n",
    "\n",
    "        b.description = \"Files Selected\"\n",
    "        b.icon = \"check-square-o\"\n",
    "        b.style.button_color = \"green\"\n",
    "        \n",
    "        tfbox.children = [widgets.Text(layout={'width' : 'initial'}) for i in range(len(b.files))]\n",
    "        for (tfield, filepath) in zip(tfbox.children, b.files):\n",
    "            tfield.value = os.path.relpath(filepath)\n",
    "            \n",
    "my_button = SelectFilesButton(tfbox)\n",
    "display(my_button)\n",
    "display(tfbox)"
   ]
  },
  {
   "cell_type": "markdown",
   "metadata": {
    "toc-hr-collapsed": false
   },
   "source": [
    "## MAYBE: Using Qt\n",
    "Benefits:\n",
    "- use system file browser instead of some custom implementation\n",
    "\n",
    "References:\n",
    "- https://stackoverflow.com/q/27551399 links to\n",
    "  - example https://stackoverflow.com/questions/20790926/ipython-notebook-open-select-file-with-gui-qt-dialog\n",
    "  - issue with qt+matplotlib in same notebook https://github.com/ipython/ipython/issues/5798\n",
    "    - example notebook reproducing the issue https://nbviewer.jupyter.org/gist/tritemio/430d68d8b0efbbb13462\n",
    "- https://groups.google.com/forum/#!topic/jupyter/EmsrRq3bs3M\n",
    "\n",
    "Use PySide2 instead PySide as of 2018-12:\n",
    "- https://wiki.qt.io/Qt_for_Python\n",
    "- https://anaconda.org/conda-forge/pyside2\n",
    "\n",
    "Didn't get any example running. Abandoned."
   ]
  },
  {
   "cell_type": "markdown",
   "metadata": {
    "toc-hr-collapsed": true
   },
   "source": [
    "### NO: using separate py script path\n",
    "Reference: https://stackoverflow.com/a/46814297\n",
    "\n",
    "Problems:\n",
    "- doesn't work for me (JupyterLab, Python 3.5)"
   ]
  },
  {
   "cell_type": "markdown",
   "metadata": {},
   "source": [
    "#### (needed for import: setup masci-tools path)"
   ]
  },
  {
   "cell_type": "code",
   "execution_count": 2,
   "metadata": {},
   "outputs": [],
   "source": [
    "# IMPORTANT: we need to import stuff from masci-tools folder.\n",
    "# Since masci-tools is not installed as a module (yet), the notebook kernel\n",
    "# needs to be started in the masci-tools folder.\n",
    "# If that has not happened for some reason, then need to add the masci-tools\n",
    "# manually to the sys path.\n",
    "import os\n",
    "import sys\n",
    "\n",
    "cwd = os.getcwd()\n",
    "path_mtools = cwd\n",
    "dirname_mtools = \"masci-tools\"\n",
    "# first try if we can get away without needing an absolute path\n",
    "if dirname_mtools in path_mtools:\n",
    "    while os.path.basename(path_mtools) != dirname_mtools:\n",
    "        path_mtools = os.path.split(path_mtools)[0]\n",
    "else:\n",
    "    # okay, try with an absolute path\n",
    "    path_mtools = \"/home/johannes/Desktop/Studium/Kurse_RWTH/SiScLab/18W/repos/masci-tools\"\n",
    "    if not os.path.isdir(path_mtools):\n",
    "        raise IOError(f\"Could not find path to masci-tools. Please specify absolute path.\")\n",
    "\n",
    "# found masci-tools. add to syspath (for imports) and chdir.\n",
    "if path_mtools not in sys.path:\n",
    "    # add only once\n",
    "    sys.path.append(path_mtools)"
   ]
  },
  {
   "cell_type": "markdown",
   "metadata": {},
   "source": [
    "this does not work: the cell loading does not finish."
   ]
  },
  {
   "cell_type": "code",
   "execution_count": null,
   "metadata": {},
   "outputs": [],
   "source": [
    "from studenproject18ws.jupyter import example_filechoosers_qt\n",
    "example_filechoosers_qt.gui_fname()"
   ]
  },
  {
   "cell_type": "markdown",
   "metadata": {},
   "source": [
    "### MAYBE: using Qt directly\n",
    "- used PySide2 instead of PySide\n",
    "- got it to work using [this](https://nbviewer.jupyter.org/gist/tritemio/430d68d8b0efbbb13462)\n",
    "\n",
    "Problems:\n",
    "- need to adapt so I can call it via a button"
   ]
  },
  {
   "cell_type": "code",
   "execution_count": 10,
   "metadata": {},
   "outputs": [],
   "source": [
    "from PySide2 import QtWidgets\n",
    "\n",
    "def gui_fname(dir=None):\n",
    "    \"\"\"Select a file via a dialog and return the file name.\n",
    "    \"\"\"\n",
    "    if dir is None: dir ='./'\n",
    "    fname = QtWidgets.QFileDialog.getOpenFileName(None, \"Select data file...\", \n",
    "            dir, filter=\"All files (*);; SM Files (*.sm)\")\n",
    "    return fname[0]"
   ]
  },
  {
   "cell_type": "code",
   "execution_count": 11,
   "metadata": {},
   "outputs": [],
   "source": [
    "%gui qt"
   ]
  },
  {
   "cell_type": "code",
   "execution_count": 12,
   "metadata": {},
   "outputs": [],
   "source": [
    "%gui qt\n",
    "file_name = gui_fname()\n",
    "%matplotlib widget"
   ]
  },
  {
   "cell_type": "code",
   "execution_count": 8,
   "metadata": {},
   "outputs": [
    {
     "data": {
      "text/plain": [
       "'/home/johannes/Desktop/Studium/Kurse_RWTH/SiScLab/18W/repos/masci-tools/studenproject18ws/data/input/banddos_4x4.hdf'"
      ]
     },
     "execution_count": 8,
     "metadata": {},
     "output_type": "execute_result"
    }
   ],
   "source": [
    "file_name"
   ]
  },
  {
   "cell_type": "markdown",
   "metadata": {},
   "source": [
    "#### WIP: Reproduce as widget button like the `Tkinter` example above\n",
    "Tried to combine th Tkinter ipywidgets button with the Qt dialog above.\n",
    "\n",
    "Doesn't work right now."
   ]
  },
  {
   "cell_type": "code",
   "execution_count": 27,
   "metadata": {},
   "outputs": [],
   "source": [
    "import traitlets\n",
    "from ipywidgets import widgets\n",
    "from IPython.display import display\n",
    "from PySide2 import QtWidgets\n",
    "\n",
    "class SelectFilesButton(widgets.Button):\n",
    "    \"\"\"A file widget that leverages tkinter.filedialog.\"\"\"\n",
    "\n",
    "    def __init__(self):\n",
    "        super(SelectFilesButton, self).__init__()\n",
    "        # Add the selected_files trait\n",
    "        self.add_traits(files=traitlets.traitlets.List())\n",
    "        # Create the button.\n",
    "        self.description = \"Select Files\"\n",
    "        self.icon = \"square-o\"\n",
    "        self.style.button_color = \"orange\"\n",
    "        # Set on click behavior.\n",
    "        self.on_click(self.select_files)\n",
    "\n",
    "    @staticmethod\n",
    "    def select_files(b):\n",
    "        \"\"\"Generate instance of tkinter.filedialog.\n",
    "\n",
    "        Parameters\n",
    "        ----------\n",
    "        b : obj:\n",
    "            An instance of ipywidgets.widgets.Button \n",
    "        \"\"\"\n",
    "        # List of selected fileswill be set to b.value\n",
    "        if dir is None: dir ='./'\n",
    "        b.files = QtWidgets.QFileDialog.getOpenFileNames(None, \"Select data file...\", \n",
    "            dir, filter=\"All files (*);; SM Files (*.sm)\")\n",
    "        b.files[0]\n",
    "\n",
    "        b.description = \"Files Selected\"\n",
    "        b.icon = \"check-square-o\"\n",
    "        b.style.button_color = \"lightgreen\""
   ]
  },
  {
   "cell_type": "code",
   "execution_count": 28,
   "metadata": {},
   "outputs": [],
   "source": [
    "%gui qt"
   ]
  },
  {
   "cell_type": "code",
   "execution_count": 29,
   "metadata": {},
   "outputs": [
    {
     "data": {
      "application/vnd.jupyter.widget-view+json": {
       "model_id": "46f7eefe11a84c41bc4efb916b2415b4",
       "version_major": 2,
       "version_minor": 0
      },
      "text/plain": [
       "SelectFilesButton(description='Select Files', icon='square-o', style=ButtonStyle(button_color='orange'))"
      ]
     },
     "metadata": {},
     "output_type": "display_data"
    }
   ],
   "source": [
    "%gui qt\n",
    "\n",
    "my_button = SelectFilesButton()\n",
    "my_button # This will display the button in the context of Jupyter Notebook"
   ]
  },
  {
   "cell_type": "markdown",
   "metadata": {},
   "source": [
    "#### Second attempt"
   ]
  },
  {
   "cell_type": "code",
   "execution_count": 31,
   "metadata": {},
   "outputs": [],
   "source": [
    "%gui qt"
   ]
  },
  {
   "cell_type": "code",
   "execution_count": 36,
   "metadata": {},
   "outputs": [],
   "source": [
    "from ipywidgets import widgets\n",
    "from IPython.display import display\n",
    "from PySide2 import QtWidgets\n",
    "\n",
    "button = widgets.Button(description=\"Click Me!\")\n",
    "\n",
    "\n",
    "def on_button_clicked(b):\n",
    "    print(\"clicked\")\n",
    "    fname = QtWidgets.QFileDialog.getOpenFileName(None, \"Select data file...\", \n",
    "            dir, filter=\"All files (*);; SM Files (*.sm)\")\n",
    "    print(fname[0])\n",
    "\n",
    "button.on_click(on_button_clicked)\n"
   ]
  },
  {
   "cell_type": "code",
   "execution_count": 37,
   "metadata": {},
   "outputs": [
    {
     "data": {
      "application/vnd.jupyter.widget-view+json": {
       "model_id": "8a4cd63ffc02456aa02b1f1af5d371d5",
       "version_major": 2,
       "version_minor": 0
      },
      "text/plain": [
       "Button(description='Click Me!', style=ButtonStyle())"
      ]
     },
     "metadata": {},
     "output_type": "display_data"
    }
   ],
   "source": [
    "display(button)"
   ]
  },
  {
   "cell_type": "code",
   "execution_count": null,
   "metadata": {},
   "outputs": [],
   "source": []
  }
 ],
 "metadata": {
  "kernelspec": {
   "display_name": "Python 3",
   "language": "python",
   "name": "python3"
  },
  "language_info": {
   "codemirror_mode": {
    "name": "ipython",
    "version": 3
   },
   "file_extension": ".py",
   "mimetype": "text/x-python",
   "name": "python",
   "nbconvert_exporter": "python",
   "pygments_lexer": "ipython3",
   "version": "3.6.7"
  }
 },
 "nbformat": 4,
 "nbformat_minor": 2
}
