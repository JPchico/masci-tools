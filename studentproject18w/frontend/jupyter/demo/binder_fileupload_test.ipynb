{
 "cells": [
  {
   "cell_type": "code",
   "execution_count": null,
   "metadata": {},
   "outputs": [],
   "source": [
    "### 2018 ############################################\n",
    "\n",
    "# NO DOS file:\n",
    "figure_title = \"Si + C defect\"\n",
    "filename = 'banddos.hdf'\n",
    "filenames_dos = []\n",
    "\n",
    "# # # NO DOS file:\n",
    "# figure_title = \"Sodium\"\n",
    "# filename = 'banddos_sodium.hdf'\n",
    "# filenames_dos = []\n",
    "\n",
    "# # 2 DOS files:\n",
    "# figure_title = \"Co conductor\"\n",
    "# filename = os.path.join('Co', 'banddos_Co.hdf')\n",
    "# filenames_dos = [os.path.join('Co', 'DOS.1'), os.path.join('Co', 'DOS.2')]\n",
    "\n",
    "filepath = ['studentproject18w', 'binder_test_data', filename]\n",
    "filepath = os.path.join(*filepath)\n",
    "filepaths_dos = [['..', '..', '..', 'data', 'input', fd] for fd in filenames_dos]\n",
    "filepaths_dos = [os.path.join(*fpd) for fpd in filepaths_dos]"
   ]
  },
  {
   "cell_type": "code",
   "execution_count": null,
   "metadata": {},
   "outputs": [],
   "source": [
    "from nbrun import run_notebook\n",
    "import os"
   ]
  },
  {
   "cell_type": "code",
   "execution_count": null,
   "metadata": {},
   "outputs": [],
   "source": [
    "from IPython.display import display\n",
    "from fileupload import FileUploadWidget\n",
    "import ipywidgets as widgets\n",
    "import tempfile\n",
    "\n",
    "# text = None\n",
    "# tmp_folder = None\n",
    "# file_upload = None\n",
    "\n",
    "def _on_file_upload_hdf(change):\n",
    "    tmp_folder = tempfile.mkdtemp()\n",
    "    tmp = tmp_folder + '/' + file_upload_hdf.filename\n",
    "    print(type(file_upload_hdf.data))\n",
    "    \n",
    "    with open(tmp, 'w+b') as f:\n",
    "        f.write(file_upload_hdf.data)\n",
    "    label_filepath_hdf.value = tmp\n",
    "\n",
    "def _on_file_upload_dos1(change):\n",
    "    tmp_folder = tempfile.mkdtemp()\n",
    "    tmp = tmp_folder + '/' + file_upload_dos1.filename\n",
    "    print(type(file_upload_dos1.data))\n",
    "    \n",
    "    with open(tmp, 'w+b') as f:\n",
    "        f.write(file_upload_dos1.data)\n",
    "    label_filepath_dos1.value = tmp\n",
    "    \n",
    "def _on_file_upload_dos2(change):\n",
    "    tmp_folder = tempfile.mkdtemp()\n",
    "    tmp = tmp_folder + '/' + file_upload_dos2.filename\n",
    "    \n",
    "    with open(tmp, 'w+b') as f:\n",
    "        f.write(file_upload_dos2.data)\n",
    "    label_filepath_dos2.value = tmp\n",
    "\n",
    "\n",
    "label_filepath_hdf = widgets.Label(\"\")   \n",
    "text_hdf = \"Upload HDF file\"\n",
    "file_upload_hdf = FileUploadWidget(text_hdf)\n",
    "file_upload_hdf.observe(_on_file_upload_hdf, names='data')\n",
    "\n",
    "label_filepath_dos1 = widgets.Label(\"\")\n",
    "text_dos1 = \"Upload DOS.1 file\"\n",
    "file_upload_dos1 = FileUploadWidget(text_dos1)\n",
    "file_upload_dos1.observe(_on_file_upload_dos1, names='data')\n",
    "\n",
    "label_filepath_dos2 = widgets.Label(\"\")\n",
    "text_dos2 = \"Upload DOS.2 file\"\n",
    "file_upload_dos2 = FileUploadWidget(text_dos2)\n",
    "file_upload_dos2.observe(_on_file_upload_dos2, names='data')\n",
    "\n",
    "\n",
    "display(file_upload_hdf)\n",
    "display(label_filepath_hdf)\n",
    "display(file_upload_dos1)\n",
    "display(label_filepath_dos1)\n",
    "display(file_upload_dos2)\n",
    "display(label_filepath_dos2)"
   ]
  },
  {
   "cell_type": "code",
   "execution_count": null,
   "metadata": {},
   "outputs": [],
   "source": [
    "filepath = label_filepath.value\n",
    "print(filepath)"
   ]
  },
  {
   "cell_type": "code",
   "execution_count": null,
   "metadata": {},
   "outputs": [],
   "source": [
    "import os\n",
    "import sys\n",
    "\n",
    "dir_masci = None\n",
    "dir_here = os.getcwd()\n",
    "dir_stupro = \"studentproject18w\"\n",
    "found_dir_masci = True\n",
    "\n",
    "if dir_stupro not in os.listdir():\n",
    "    found_dir_masci = False\n",
    "    while os.getcwd() != \"/\":\n",
    "        if dir_stupro in os.listdir():\n",
    "            found_dir_masci = True\n",
    "            break\n",
    "        os.chdir(\"..\")\n",
    "\n",
    "if found_dir_masci:\n",
    "    dir_masci = os.getcwd()\n",
    "else:\n",
    "    raise ImportError(\"Did not find masci-tools/studentproject18ws. If not installed as module, need location of this folder.\")\n",
    "\n",
    "# add (once) to sys path\n",
    "if dir_masci not in sys.path:\n",
    "    sys.path.append(dir_masci)"
   ]
  },
  {
   "cell_type": "code",
   "execution_count": null,
   "metadata": {},
   "outputs": [],
   "source": [
    "# Jupyter, Python imports\n",
    "import ipywidgets as widgets\n",
    "from ipywidgets import interact, interactive, fixed, interact_manual\n",
    "from IPython.display import display\n",
    "import matplotlib.pyplot as plt\n",
    "from matplotlib import gridspec\n",
    "import numpy as np\n",
    "import traitlets\n",
    "from tkinter import Tk, filedialog\n",
    "\n",
    "#  python 3interactive figures in a live IPython notebook session\n",
    "# if run from jupyter-notebook: MAGICmatplotlib nbagg\n",
    "# if run from jupyter-lab: MAGICmatplotlib widget\n",
    "%matplotlib widget\n",
    "\n",
    "# studentproject18ws imports\n",
    "import logging\n",
    "from studentproject18w.hdf.reader import Reader\n",
    "from studentproject18w.hdf.recipes import Recipes\n",
    "from studentproject18w.plot.matplot import BandDOSPlot, BandPlot"
   ]
  },
  {
   "cell_type": "code",
   "execution_count": null,
   "metadata": {},
   "outputs": [],
   "source": [
    "data = None\n",
    "reader = Reader(filepath=filepath)\n",
    "with reader as h5file:\n",
    "    data = reader.read(recipe=Recipes.FleurBands)\n",
    "    #\n",
    "    # Note:\n",
    "    # Inside the with statement (context manager),\n",
    "    # all data attributes that are type h5py Dataset are available (in-file access)\n",
    "    # When the statement is left,the HDF5 file gets closed and the datasets are closed.\n",
    "    #\n",
    "    # Use data outside the with-statement (in-memory access: all HDF5 datasets converted to numpy ndarrays):\n",
    "    data.move_datasets_to_memory()"
   ]
  },
  {
   "cell_type": "code",
   "execution_count": null,
   "metadata": {},
   "outputs": [],
   "source": [
    "data.atoms_elements"
   ]
  },
  {
   "cell_type": "code",
   "execution_count": null,
   "metadata": {},
   "outputs": [],
   "source": []
  }
 ],
 "metadata": {
  "kernelspec": {
   "display_name": "Python 3",
   "language": "python",
   "name": "python3"
  },
  "language_info": {
   "codemirror_mode": {
    "name": "ipython",
    "version": 3
   },
   "file_extension": ".py",
   "mimetype": "text/x-python",
   "name": "python",
   "nbconvert_exporter": "python",
   "pygments_lexer": "ipython3",
   "version": "3.6.7"
  },
  "varInspector": {
   "cols": {
    "lenName": 16,
    "lenType": 16,
    "lenVar": 40
   },
   "kernels_config": {
    "python": {
     "delete_cmd_postfix": "",
     "delete_cmd_prefix": "del ",
     "library": "var_list.py",
     "varRefreshCmd": "print(var_dic_list())"
    },
    "r": {
     "delete_cmd_postfix": ") ",
     "delete_cmd_prefix": "rm(",
     "library": "var_list.r",
     "varRefreshCmd": "cat(var_dic_list()) "
    }
   },
   "types_to_exclude": [
    "module",
    "function",
    "builtin_function_or_method",
    "instance",
    "_Feature"
   ],
   "window_display": false
  }
 },
 "nbformat": 4,
 "nbformat_minor": 2
}
