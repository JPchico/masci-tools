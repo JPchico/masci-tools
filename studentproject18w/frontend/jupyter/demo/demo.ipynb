{
 "cells": [
  {
   "cell_type": "markdown",
   "metadata": {},
   "source": [
    "# Demo Notebook Usage\n",
    "\n",
    "\n",
    "The Demo lacks a filechooser for now. the 2th code cell in `demo_backend` configures the path `path_mascitools/studentproject18ws/data/input`\n",
    "as the path where all the HDF and DOS files live. The 2nd code cell assumes that this folder is populated with the files \n",
    "from [studentproject supplied demo files from iffcloud](https://iffcloud.fz-juelich.de/s/CrBEqCJGK5FjBri). A specific file can be \n",
    "loaded in this Demo notebook by\n",
    "1. uncommenting the respective line-set `fig_widget_title, fig_widget_title, filename, filenames_dos` (don't forget to comment the previous selection!)\n",
    "2. save the `demo_backend` notebook\n",
    "3. rerun the code cell in **this** notebook.\n",
    "   \n",
    "Note: if no error is printed but a plot is missing, just rerun the code cell. Otherwise contact developers."
   ]
  },
  {
   "cell_type": "code",
   "execution_count": null,
   "metadata": {},
   "outputs": [],
   "source": [
    "%run demo_backend.ipynb"
   ]
  },
  {
   "cell_type": "code",
   "execution_count": null,
   "metadata": {},
   "outputs": [],
   "source": []
  }
 ],
 "metadata": {
  "kernelspec": {
   "display_name": "Python 3",
   "language": "python",
   "name": "python3"
  },
  "language_info": {
   "codemirror_mode": {
    "name": "ipython",
    "version": 3
   },
   "file_extension": ".py",
   "mimetype": "text/x-python",
   "name": "python",
   "nbconvert_exporter": "python",
   "pygments_lexer": "ipython3",
   "version": "3.6.7"
  }
 },
 "nbformat": 4,
 "nbformat_minor": 2
}
