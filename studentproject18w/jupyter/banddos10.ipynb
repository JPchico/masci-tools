{
 "cells": [
  {
   "cell_type": "markdown",
   "metadata": {},
   "source": [
    "TODO: New here:\n",
    "- add filechooser\n",
    "- ..."
   ]
  },
  {
   "cell_type": "markdown",
   "metadata": {
    "toc-hr-collapsed": false
   },
   "source": [
    "# Setup"
   ]
  },
  {
   "cell_type": "markdown",
   "metadata": {},
   "source": [
    "## Setup masci-tools path"
   ]
  },
  {
   "cell_type": "code",
   "execution_count": 1,
   "metadata": {},
   "outputs": [],
   "source": [
    "# IMPORTANT: we need to import stuff from masci-tools folder.\n",
    "# Since masci-tools is not installed as a module (yet), the notebook kernel\n",
    "# needs to be started in the masci-tools folder.\n",
    "# If that has not happened for some reason, then need to add the masci-tools\n",
    "# manually to the sys path.\n",
    "import os\n",
    "import sys\n",
    "\n",
    "cwd = os.getcwd()\n",
    "path_mtools = cwd\n",
    "dirname_mtools = \"masci-tools\"\n",
    "# first try if we can get away without needing an absolute path\n",
    "if dirname_mtools in path_mtools:\n",
    "    while os.path.basename(path_mtools) != dirname_mtools:\n",
    "        path_mtools = os.path.split(path_mtools)[0]\n",
    "else:\n",
    "    # okay, try with an absolute path\n",
    "    path_mtools = \"/home/johannes/Desktop/Studium/Kurse_RWTH/SiScLab/18W/repos/masci-tools\"\n",
    "    if not os.path.isdir(path_mtools):\n",
    "        raise IOError(f\"Could not find path to masci-tools. Please specify absolute path.\")\n",
    "\n",
    "# found masci-tools. add to syspath (for imports) and chdir.\n",
    "if path_mtools not in sys.path:\n",
    "    # add only once\n",
    "    sys.path.append(path_mtools)"
   ]
  },
  {
   "cell_type": "markdown",
   "metadata": {},
   "source": [
    "## Setup imports"
   ]
  },
  {
   "cell_type": "code",
   "execution_count": 2,
   "metadata": {},
   "outputs": [],
   "source": [
    "# Jupyter, Python imports\n",
    "import ipywidgets as widgets\n",
    "from ipywidgets import interact, interactive, fixed, interact_manual\n",
    "from IPython.display import display\n",
    "import matplotlib.pyplot as plt\n",
    "from matplotlib import gridspec\n",
    "import numpy as np\n",
    "import traitlets\n",
    "from tkinter import Tk, filedialog\n",
    "\n",
    "#  python 3interactive figures in a live IPython notebook session\n",
    "# if run from jupyter-notebook: MAGICmatplotlib nbagg\n",
    "# if run from jupyter-lab: MAGICmatplotlib widget\n",
    "%matplotlib widget\n",
    "\n",
    "# studentproject18ws imports\n",
    "import logging\n",
    "from studentproject18w.hdf.reader import Reader\n",
    "from studentproject18w.hdf.recipes import Recipes\n",
    "from studentproject18w.plot.matplot import BandDOSPlot, BandPlot"
   ]
  },
  {
   "cell_type": "code",
   "execution_count": 3,
   "metadata": {},
   "outputs": [],
   "source": [
    "# reloading mpl backend ensures interactive plot works first time.\n",
    "# At least on my system, I need to load it twice so that it works.\n",
    "%matplotlib widget"
   ]
  },
  {
   "cell_type": "markdown",
   "metadata": {},
   "source": [
    "## Read file, import data\n",
    "\n",
    "- TODO: link with widget-based file-chooser"
   ]
  },
  {
   "cell_type": "code",
   "execution_count": 4,
   "metadata": {},
   "outputs": [],
   "source": [
    "# # NO DOS file:\n",
    "filename = 'banddos.hdf'\n",
    "filenames_dos = []\n",
    "# filename = 'banddos_4x4.hdf'\n",
    "# filenames_dos = []\n",
    "# filename = 'banddos_sodium.hdf'\n",
    "# filenames_dos = []\n",
    "\n",
    "# 1 DOS file:\n",
    "# filename = os.path.join('MoSe2', 'banddos_2spin.hdf')\n",
    "# filenames_dos = [os.path.join('MoSe2',\"DOS.1\")]\n",
    "\n",
    "# # 2 DOS files:\n",
    "# filename = os.path.join('Co', 'banddos_Co.hdf')\n",
    "# filenames_dos = [os.path.join('Co', 'DOS.1'), os.path.join('Co', 'DOS.2')]\n",
    "\n",
    "filepath = ['..', 'data', 'input', filename]\n",
    "filepath = os.path.join(*filepath)\n",
    "filepaths_dos = [['..', 'data', 'input', fd] for fd in filenames_dos]\n",
    "filepaths_dos = [os.path.join(*fpd) for fpd in filepaths_dos]\n",
    "\n",
    "data = None\n",
    "reader = Reader(filepath=filepath)\n",
    "with reader as h5file:\n",
    "    data = reader.read(recipe=Recipes.FleurBands)\n",
    "    #\n",
    "    # Note:\n",
    "    # Inside the with statement (context manager),\n",
    "    # all data attributes that are type h5py Dataset are available (in-file access)\n",
    "    # When the statement is left,the HDF5 file gets closed and the datasets are closed.\n",
    "    #\n",
    "    # Use data outside the with-statement (in-memory access: all HDF5 datasets converted to numpy ndarrays):\n",
    "    data.move_datasets_to_memory()"
   ]
  },
  {
   "cell_type": "markdown",
   "metadata": {},
   "source": [
    "## Init data <--> plot interface"
   ]
  },
  {
   "cell_type": "code",
   "execution_count": 5,
   "metadata": {},
   "outputs": [],
   "source": [
    "# init interface plot <--> data\n",
    "plter = BandDOSPlot(plt, data, filepaths_dos)"
   ]
  },
  {
   "cell_type": "markdown",
   "metadata": {},
   "source": [
    "# Define Widgets"
   ]
  },
  {
   "cell_type": "code",
   "execution_count": 6,
   "metadata": {},
   "outputs": [],
   "source": [
    "class SelectFilesButton(widgets.Button):\n",
    "    \"\"\"A file widget that leverages tkinter.filedialog.\"\"\"\n",
    "\n",
    "    def __init__(self):\n",
    "        super(SelectFilesButton, self).__init__()\n",
    "        # Add the selected_files trait\n",
    "        self.add_traits(files=traitlets.traitlets.List())\n",
    "        # Create the button.\n",
    "        self.description = \"Select Files\"\n",
    "        self.icon = \"square-o\"\n",
    "        self.style.button_color = \"orange\"\n",
    "        # Set on click behavior.\n",
    "        self.on_click(self.select_files)\n",
    "\n",
    "    @staticmethod\n",
    "    def select_files(b):\n",
    "        \"\"\"Generate instance of tkinter.filedialog.\n",
    "\n",
    "        Parameters\n",
    "        ----------\n",
    "        b : obj:\n",
    "            An instance of ipywidgets.widgets.Button \n",
    "        \"\"\"\n",
    "        # Create Tk root\n",
    "        root = Tk()\n",
    "        # Hide the main window\n",
    "        root.withdraw()\n",
    "        # Raise the root to the top of all windows.\n",
    "        root.call('wm', 'attributes', '.', '-topmost', True)\n",
    "        # List of selected fileswill be set to b.value\n",
    "        b.files = filedialog.askopenfilename(multiple=True)\n",
    "\n",
    "        b.description = \"Files Selected\"\n",
    "        b.icon = \"check-square-o\"\n",
    "        b.style.button_color = \"lightgreen\""
   ]
  },
  {
   "cell_type": "code",
   "execution_count": 7,
   "metadata": {},
   "outputs": [
    {
     "data": {
      "application/vnd.jupyter.widget-view+json": {
       "model_id": "bc233e41a93b49ef96f818f46a36eccd",
       "version_major": 2,
       "version_minor": 0
      },
      "text/plain": [
       "SelectFilesButton(description='Select Files', icon='square-o', style=ButtonStyle(button_color='orange'))"
      ]
     },
     "metadata": {},
     "output_type": "display_data"
    }
   ],
   "source": [
    "my_button = SelectFilesButton()\n",
    "display(my_button)"
   ]
  },
  {
   "cell_type": "code",
   "execution_count": 8,
   "metadata": {},
   "outputs": [
    {
     "data": {
      "text/plain": [
       "[]"
      ]
     },
     "execution_count": 8,
     "metadata": {},
     "output_type": "execute_result"
    }
   ],
   "source": [
    "my_button.files"
   ]
  },
  {
   "cell_type": "markdown",
   "metadata": {},
   "source": [
    "### Define user input arguments: band plot"
   ]
  },
  {
   "cell_type": "code",
   "execution_count": 9,
   "metadata": {},
   "outputs": [],
   "source": [
    "select_ylim = widgets.FloatRangeSlider(\n",
    "    value=plter.icdv.ylim.initial,\n",
    "    min=plter.icdv.ylim.min,\n",
    "    max=plter.icdv.ylim.max+1,\n",
    "    step=plter.icdv.ylim.step,\n",
    "    description=plter.icdv.ylim.label,\n",
    "    disabled=False,\n",
    "    continuous_update=False,\n",
    "    orientation='horizontal',\n",
    "    readout=True,\n",
    "    readout_format='.2f',\n",
    "    layout=widgets.Layout(width=\"95%\")\n",
    ")\n",
    "\n",
    "# number of bands can be large, so use a rangeslider instead of selectionslider\n",
    "# select_bands_height = f\"{len(plter.icdv.bands)*5}px\"\n",
    "select_bands = widgets.IntRangeSlider(\n",
    "    value=plter.icdv.bands_slider.initial,\n",
    "    min=plter.icdv.bands_slider.min, \n",
    "    max=plter.icdv.bands_slider.max, \n",
    "    step=plter.icdv.bands_slider.step,                                    \n",
    "    description=plter.icdv.bands_slider.label,                              \n",
    "    disabled=False, \n",
    "    continuous_update=False,                                    \n",
    "    orientation='horizontal',\n",
    "    readout=True,                                   \n",
    "    readout_format='d',\n",
    "    layout=select_ylim.layout\n",
    ")\n",
    "\n",
    "select_exponent = widgets.FloatSlider(\n",
    "    value=plter.icdv.exponent.initial,\n",
    "    min=plter.icdv.exponent.min,\n",
    "    max=plter.icdv.exponent.max,\n",
    "    step=plter.icdv.exponent.step,\n",
    "    description=plter.icdv.exponent.label,\n",
    "    disabled=False,\n",
    "    continuous_update=False,\n",
    "    orientation='horizontal',\n",
    "    readout=True,\n",
    "    readout_format='.2f',\n",
    "    layout=select_ylim.layout\n",
    ")\n",
    "\n",
    "select_marker_size = widgets.FloatSlider(\n",
    "    value=plter.icdv.marker_size.initial,\n",
    "    min=plter.icdv.marker_size.min,\n",
    "    max=plter.icdv.marker_size.max,\n",
    "    step=plter.icdv.marker_size.step,\n",
    "    description=plter.icdv.marker_size.label,\n",
    "    continuous_update=False,\n",
    "    orientation='horizontal',\n",
    "    readout=True,\n",
    "    readout_format='.2f',\n",
    "    layout=select_ylim.layout\n",
    ")\n",
    "\n",
    "\n",
    "select_compare_characters = widgets.Checkbox(\n",
    "    value=False,\n",
    "    description=\"\",\n",
    "    disabled=True,\n",
    "#     style={'description_width': 'initial'} # for long descriptions\n",
    "#     layout=widgets.Layout(width='30%', height='30%')\n",
    ")\n",
    "\n",
    "select_characters = widgets.SelectMultiple(\n",
    "    options=plter.icdv.characters,\n",
    "    value=tuple(plter.icdv.characters),\n",
    "    description='',\n",
    "    disabled=False,\n",
    "#     layout=widgets.Layout(width='120%', height='90%')\n",
    ")\n",
    "\n",
    "# select_groups_height = f\"{len(plter.icdv.groups)*19}px\" # height just so no scrollbar needed\n",
    "# select_groups_height = f\"{len(plter.icdv.groups)*10}px\"\n",
    "select_groups_options = [(label,value) for label,value \n",
    "                         in zip(plter.icdv.group_labels, plter.icdv.groups)]\n",
    "select_groups = widgets.SelectMultiple(\n",
    "    options=select_groups_options,\n",
    "    value=tuple(plter.icdv.groups),\n",
    "    description='',                                  \n",
    "    disabled=False,\n",
    "#     layout=widgets.Layout(width='20%', height='100%')\n",
    ")\n",
    "\n",
    "\n",
    "select_ignore_apg = widgets.Checkbox(\n",
    "    value=False,\n",
    "    description=\"Ignore atoms per group\",\n",
    "    disabled=False\n",
    ")\n",
    "\n",
    "select_spins = widgets.SelectMultiple(\n",
    "    options=plter.icdv.spins,\n",
    "#     value=(tuple(plter.icdv.groups)),\n",
    "    value=tuple([0]),\n",
    "    description='',\n",
    "    disabled=False\n",
    ")"
   ]
  },
  {
   "cell_type": "markdown",
   "metadata": {},
   "source": [
    "### Define user input arguments: DOS plot\n",
    "TODO: these only are visible if (a) DOS file(s) are loaded."
   ]
  },
  {
   "cell_type": "code",
   "execution_count": 10,
   "metadata": {},
   "outputs": [],
   "source": [
    "select_dos_groups = widgets.Checkbox(\n",
    "    value=True,\n",
    "    description=\"DOS groups\",\n",
    "    disabled=False\n",
    ")\n",
    "\n",
    "select_dos_interstitial = widgets.Checkbox(\n",
    "    value=True,\n",
    "    description=\"DOS interstitial\",\n",
    "    disabled=False\n",
    ")\n",
    "\n",
    "select_dos_characters = widgets.Checkbox(\n",
    "    value=False,\n",
    "    description=\"DOS all characters\",\n",
    "    disabled=False\n",
    ")"
   ]
  },
  {
   "cell_type": "markdown",
   "metadata": {},
   "source": [
    "### Connect interdependent widgets"
   ]
  },
  {
   "cell_type": "code",
   "execution_count": 11,
   "metadata": {},
   "outputs": [],
   "source": [
    "# disable compare_characters when not 2 characters are selected\n",
    "def on_character_selection_change(change):\n",
    "    if len(change.new) == 2 and (len(select_spins.value) != 2):\n",
    "        select_compare_characters.disabled = False\n",
    "#         select_compare_characters.description = \"Compare 2 characters (enabled)\"\n",
    "    else:\n",
    "        select_compare_characters.disabled = True\n",
    "#         select_compare_characters.description = \"Compare 2 characters (disabled)\"\n",
    "select_characters.observe(on_character_selection_change, names='value')\n",
    "\n",
    "# disable compare_characters when 2 spins are selected.\n",
    "# it would work (plot just uses the down spin then), but would be confusing.\n",
    "def on_spin_selection_change(change):\n",
    "    if len(change.new) == 2:\n",
    "        select_compare_characters.disabled = True\n",
    "#         select_compare_characters.description = \"Compare 2 characters (enabled)\"\n",
    "    elif (len(select_characters.value) == 2):\n",
    "        select_compare_characters.disabled = False\n",
    "#         select_compare_characters.description = \"Compare 2 characters (disabled)\"\n",
    "select_spins.observe(on_spin_selection_change, names='value')\n",
    "\n",
    "# disable select_characters and select_spins when compare_characters is active, \n",
    "def on_compare_character(change):\n",
    "    select_characters.disabled = change.new\n",
    "    select_spins.disabled = change.new\n",
    "select_compare_characters.observe(on_compare_character, names='value')"
   ]
  },
  {
   "cell_type": "markdown",
   "metadata": {},
   "source": [
    "### Define Layout containers"
   ]
  },
  {
   "cell_type": "markdown",
   "metadata": {},
   "source": [
    "TODO: integrate new widgets:\n",
    "- spin"
   ]
  },
  {
   "cell_type": "code",
   "execution_count": 12,
   "metadata": {},
   "outputs": [],
   "source": [
    "layout_auto = widgets.Layout(width='auto') #override default layouts\n",
    "def override_layout(widgetss):\n",
    "    for widget in widgetss:\n",
    "        no_description=(widget.description==\"\")\n",
    "        widget.layout=layout_auto\n",
    "        if no_description:\n",
    "            widget.description=''\n",
    "        \n",
    "def hbox_widget_label(wig, lab, wig_left=True):\n",
    "    if wig_left:\n",
    "        return widgets.HBox([wig,lab])\n",
    "    else:\n",
    "        return widgets.HBox([lab,wig])\n",
    "#     wig.layout=layout_auto\n",
    "#     lab.layout=layout_auto\n",
    "#     hbox_layout = widgets.Layout(\n",
    "#         display='flex',\n",
    "#         flex_flow='row',\n",
    "#         justify_content='space-between'\n",
    "#     ) # this is def of HBox I think\n",
    "#     children = None\n",
    "#     if wig_left:\n",
    "#         children = [wig,lab]\n",
    "#     else:\n",
    "#         children = [lab,wig]\n",
    "#     box = widgets.Box(\n",
    "#         children=children,\n",
    "#         layout=hbox_layout\n",
    "#     )\n",
    "#     return box\n",
    "\n",
    "selects_slider = [\n",
    "    select_ylim,\n",
    "    select_bands,\n",
    "    select_exponent,\n",
    "    select_marker_size\n",
    "]\n",
    "override_layout(selects_slider)\n",
    "layout_box_sliders = widgets.Layout(\n",
    "    display='flex',\n",
    "    flex_flow='column',\n",
    "    align_items='stretch',\n",
    "    border='solid',\n",
    "    width='60%'\n",
    ")\n",
    "box_sliders = widgets.Box(\n",
    "    children=selects_slider,\n",
    "    layout=layout_box_sliders\n",
    ")\n",
    "\n",
    "\n",
    "label_characters = widgets.Label(\"Characters\")\n",
    "label_compare_characters = widgets.Label(\"Compare 2\")\n",
    "selects_character = [\n",
    "    label_characters,\n",
    "    select_characters,\n",
    "    label_compare_characters,\n",
    "    select_compare_characters\n",
    "]\n",
    "override_layout(selects_character)\n",
    "select_characters.description=''\n",
    "# selects_character.append(hbox_widget_label(\n",
    "#     select_compare_characters, \n",
    "#     label_compare_characters, wig_left=False))\n",
    "layout_box_characters = widgets.Layout(\n",
    "    display='flex',\n",
    "    flex_flow='column',\n",
    "    align_items='stretch',\n",
    "    border='solid',\n",
    "    width='20%'\n",
    ")\n",
    "box_characters = widgets.Box(\n",
    "    children=selects_character,\n",
    "    layout=layout_box_characters\n",
    ")\n",
    "\n",
    "\n",
    "label_groups = widgets.Label(\"Atom Groups\")\n",
    "selects_group = [\n",
    "    label_groups,\n",
    "    select_groups\n",
    "]\n",
    "override_layout(selects_group)\n",
    "select_groups.description=''\n",
    "box_groups = widgets.Box(\n",
    "    children=selects_group,\n",
    "    layout=layout_box_characters\n",
    ")\n",
    "\n",
    "dashboard_controls = widgets.HBox([box_sliders, box_characters, box_groups])\n",
    "# display(dashboard_controls)"
   ]
  },
  {
   "cell_type": "code",
   "execution_count": 13,
   "metadata": {},
   "outputs": [
    {
     "data": {
      "application/vnd.jupyter.widget-view+json": {
       "model_id": "f2c10dc0173b428ebfa45415bd1180c8",
       "version_major": 2,
       "version_minor": 0
      },
      "text/plain": [
       "FigureCanvasNbAgg()"
      ]
     },
     "metadata": {},
     "output_type": "display_data"
    },
    {
     "data": {
      "application/vnd.jupyter.widget-view+json": {
       "model_id": "3ff51c7e3747481f9726145eb0f3cbfa",
       "version_major": 2,
       "version_minor": 0
      },
      "text/plain": [
       "HBox(children=(Box(children=(FloatRangeSlider(value=(-11.870973918784317, 5.095462837995634), continuous_updat…"
      ]
     },
     "metadata": {},
     "output_type": "display_data"
    },
    {
     "data": {
      "application/vnd.jupyter.widget-view+json": {
       "model_id": "7bd2a9fc381c44228229d4a0567752e5",
       "version_major": 2,
       "version_minor": 0
      },
      "text/plain": [
       "Checkbox(value=False, description='Ignore atoms per group')"
      ]
     },
     "metadata": {},
     "output_type": "display_data"
    },
    {
     "data": {
      "application/vnd.jupyter.widget-view+json": {
       "model_id": "ade888e052184a2c8218f72de8fce444",
       "version_major": 2,
       "version_minor": 0
      },
      "text/plain": [
       "SelectMultiple(description='spins', index=(0,), options=(0,), value=(0,))"
      ]
     },
     "metadata": {},
     "output_type": "display_data"
    },
    {
     "data": {
      "application/vnd.jupyter.widget-view+json": {
       "model_id": "3ea93a6fcce04d99bdf205f508cd8cb1",
       "version_major": 2,
       "version_minor": 0
      },
      "text/plain": [
       "Checkbox(value=True, description='DOS groups')"
      ]
     },
     "metadata": {},
     "output_type": "display_data"
    },
    {
     "data": {
      "application/vnd.jupyter.widget-view+json": {
       "model_id": "a3e76482be944513892e84589a4a07ed",
       "version_major": 2,
       "version_minor": 0
      },
      "text/plain": [
       "Checkbox(value=True, description='DOS interstitial')"
      ]
     },
     "metadata": {},
     "output_type": "display_data"
    },
    {
     "data": {
      "application/vnd.jupyter.widget-view+json": {
       "model_id": "de260942291649bc914e5709ba96fd00",
       "version_major": 2,
       "version_minor": 0
      },
      "text/plain": [
       "Checkbox(value=False, description='DOS all characters')"
      ]
     },
     "metadata": {},
     "output_type": "display_data"
    }
   ],
   "source": [
    "# init plot\n",
    "fig_scale = 0.65\n",
    "fig_ratio = [12,6]\n",
    "figsize=[fig_scale * el for el in fig_ratio]\n",
    "\n",
    "(fig, ax_bands, ax_dos) = plter.setup_figure(fig_ratio, fig_scale)\n",
    "# (fig2, ax_bands2) = plter2.setup_figure(fig_ratio, fig_scale)\n",
    "\n",
    "\n",
    "plt.suptitle(f\"Bandstructure of {filename}\")\n",
    "\n",
    "\n",
    "def update_plot(characters, groups, bands, spins,\n",
    "                unfolding_weight_exponent, marker_size,\n",
    "               compare_characters, ylim, ignore_atoms_per_group,\n",
    "               dos_groups, dos_interstitial, dos_characters):\n",
    "    \n",
    "    (mask_bands, mask_characters, mask_groups) = plter.icdv.convert_selections(\n",
    "        bands, characters, groups)\n",
    "    \n",
    "\n",
    "    plter.plot_bandDOS(mask_bands, mask_characters, mask_groups, spins,\n",
    "                          unfolding_weight_exponent, compare_characters, \n",
    "                              ignore_atoms_per_group, marker_size,\n",
    "                              dos_groups, dos_interstitial, dos_characters,\n",
    "                               dos_fix_xlim=True, ylim=ylim)\n",
    "\n",
    "        \n",
    "    plt.show()\n",
    "\n",
    "    \n",
    "interactive_update_plot = interactive(\n",
    "    update_plot, \n",
    "    characters=select_characters, groups=select_groups, \n",
    "    bands=select_bands, spins=select_spins,\n",
    "    unfolding_weight_exponent=select_exponent, marker_size=select_marker_size,\n",
    "    compare_characters=select_compare_characters, ylim=select_ylim,\n",
    "    ignore_atoms_per_group=select_ignore_apg,\n",
    "    dos_groups=select_dos_groups,\n",
    "    dos_interstitial=select_dos_interstitial,\n",
    "    dos_characters=select_dos_characters\n",
    ")\n",
    "\n",
    "\n",
    "# dashboard = widgets.VBox()\n",
    "# dashboard_plot = widgets.VBox(interactive_update_plot.children)\n",
    "# dashboard_plot.layout.display='none'\n",
    "# dashboard.children = [dashboard_plot,\n",
    "#                      dashboard_controls]\n",
    "\n",
    "select_characters.description=''\n",
    "select_groups.description=''\n",
    "select_compare_characters.description=''\n",
    "display(dashboard_controls)\n",
    "\n",
    "# TODO: integrate into dashboard:\n",
    "display(select_ignore_apg)\n",
    "display(select_spins)\n",
    "\n",
    "# TODO: integrate into dashboard:\n",
    "display(select_dos_groups)\n",
    "display(select_dos_interstitial)\n",
    "display(select_dos_characters)"
   ]
  },
  {
   "cell_type": "markdown",
   "metadata": {
    "toc-hr-collapsed": false
   },
   "source": [
    "## 3D Atoms plot"
   ]
  },
  {
   "cell_type": "code",
   "execution_count": 21,
   "metadata": {},
   "outputs": [
    {
     "data": {
      "application/vnd.jupyter.widget-view+json": {
       "model_id": "1e8bc1231e184193a1f148e1f02993b9",
       "version_major": 2,
       "version_minor": 0
      },
      "text/plain": [
       "interactive(children=(SelectMultiple(description='groups', index=(2,), layout=Layout(width='auto'), options=((…"
      ]
     },
     "metadata": {},
     "output_type": "display_data"
    }
   ],
   "source": [
    "import ipyvolume as ipv\n",
    "x, y, z = data.atoms_position.T\n",
    "@interact(groups=select_groups)\n",
    "def update_atoms_plot(groups):\n",
    "    selected_atoms = []\n",
    "    for group in groups:\n",
    "        selected_atoms_group = np.where(data.atoms_group==group)\n",
    "        for selected_atom_group in selected_atoms_group:\n",
    "            selected_atoms.extend(selected_atom_group)\n",
    "    \n",
    "    ipv.figure()\n",
    "    scatter = ipv.scatter(x,y,z, size=5, marker=\"sphere\", selected=selected_atoms, size_selected=8)\n",
    "    ipv.show()\n",
    "\n",
    "    "
   ]
  },
  {
   "cell_type": "code",
   "execution_count": 20,
   "metadata": {},
   "outputs": [
    {
     "data": {
      "text/plain": [
       "[Si, Si, Si, Si, C, Si, Si, Si, Si, Si, Si, Si, Si, Si, Si, Si]"
      ]
     },
     "execution_count": 20,
     "metadata": {},
     "output_type": "execute_result"
    }
   ],
   "source": [
    "data.atoms_elements"
   ]
  },
  {
   "cell_type": "code",
   "execution_count": null,
   "metadata": {},
   "outputs": [],
   "source": []
  }
 ],
 "metadata": {
  "kernelspec": {
   "display_name": "Python 3",
   "language": "python",
   "name": "python3"
  },
  "language_info": {
   "codemirror_mode": {
    "name": "ipython",
    "version": 3
   },
   "file_extension": ".py",
   "mimetype": "text/x-python",
   "name": "python",
   "nbconvert_exporter": "python",
   "pygments_lexer": "ipython3",
   "version": "3.6.7"
  },
  "toc": {
   "base_numbering": 1,
   "nav_menu": {},
   "number_sections": true,
   "sideBar": true,
   "skip_h1_title": false,
   "title_cell": "Table of Contents",
   "title_sidebar": "Contents",
   "toc_cell": false,
   "toc_position": {},
   "toc_section_display": true,
   "toc_window_display": true
  },
  "varInspector": {
   "cols": {
    "lenName": 16,
    "lenType": 16,
    "lenVar": 40
   },
   "kernels_config": {
    "python": {
     "delete_cmd_postfix": "",
     "delete_cmd_prefix": "del ",
     "library": "var_list.py",
     "varRefreshCmd": "print(var_dic_list())"
    },
    "r": {
     "delete_cmd_postfix": ") ",
     "delete_cmd_prefix": "rm(",
     "library": "var_list.r",
     "varRefreshCmd": "cat(var_dic_list()) "
    }
   },
   "types_to_exclude": [
    "module",
    "function",
    "builtin_function_or_method",
    "instance",
    "_Feature"
   ],
   "window_display": false
  }
 },
 "nbformat": 4,
 "nbformat_minor": 2
}
