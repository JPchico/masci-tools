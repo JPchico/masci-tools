{
 "cells": [
  {
   "cell_type": "markdown",
   "metadata": {
    "heading_collapsed": true,
    "slideshow": {
     "slide_type": "skip"
    }
   },
   "source": [
    "# RISE - Notebooks as Presentations\n",
    "- [Installation](https://github.com/damianavila/RISE):\n",
    "  ```\n",
    "  source activate myenv\n",
    "  conda install -c conda-forge rise\n",
    "  ```\n",
    "- [Usage](https://damianavila.github.io/RISE/usage.html)\n",
    "\n",
    "- Essential Notebook Keys:\n",
    "\n",
    "| Key       | Does                                 |\n",
    "|-----------|--------------------------------------|\n",
    "| ESC       | enter command mode (CM)              |\n",
    "| RET       | CM: enter cell, leave CM             |\n",
    "| up/down   | CM: move to cell up, down            |\n",
    "| a/b       | CM: insert cell above below          |\n",
    "| m/y       | CM: switch cell format: makdown/code |\n",
    "| x         | CM: delete cell                      |\n",
    "| z         | CM: undo                             |\n",
    "| Shift+RET | run cell, enter CM                   |\n",
    "| Ctrl+z    | undo                                 |\n",
    "| Shift+/   | comment                              |\n",
    "\n",
    "- Essential RISE keys:\n",
    "\n",
    "| Key          | Does                                 |\n",
    "|--------------|--------------------------------------|\n",
    "| Alt+r        | toggle presentation mode  (PM)       |\n",
    "| Shift+/SPACE | PM: previous/next slide              |\n",
    "| PgUp/PgDown  | PM: previous/next slide              |\n",
    "\n",
    "\n",
    "\n",
    "\n",
    "\n",
    "\n",
    "\n",
    "# Jupyter Markdown Cheatsheets\n",
    "- [IBM Jupyter Markdown Cheatsheet](https://www.ibm.com/support/knowledgecenter/SSQNUZ_current/com.ibm.icpdata.doc/dsx/markd-jupyter.html) (includes: how to do boxed text)\n",
    "- [Brynamwr Jupyter Notebook Users Manual](https://jupyter.brynmawr.edu/services/public/dblank/Jupyter%20Notebook%20Users%20Manual.ipynb)\n",
    "- [Github General Markdown Cheatsheet](https://github.com/adam-p/markdown-here/wiki/Markdown-Cheatsheet#images)\n",
    "- [Medium Jupyter Markdown Cheathseet (very short)](https://medium.com/ibm-data-science-experience/markdown-for-jupyter-notebooks-cheatsheet-386c05aeebed)\n",
    "\n",
    "\n",
    "- [Markdown Table Generator](https://www.tablesgenerator.com/markdown_tables)\n",
    "# Installations for using project code\n",
    "For example, for running it inside the presentation.\n",
    "\n",
    "```\n",
    "source activate myenv\n",
    "# optional: conda install nb_conda\n",
    "# For use in jupyter notebook:\n",
    "conda install -c conda-forge jupyter_contrib_nbextensions ipywidgets ipympl widgetsnbextension ipyvolume appmode bqplot\n",
    "# Tkinter:\n",
    "conda install -c anaconda tk\n",
    "# optional: For use in jupyter lab (RISE only available in notebook):\n",
    "conda install -c conda-forge jupyterlab nodejs\n",
    "jupyter labextension install @jupyter-widgets/jupyterlab-manager jupyter-matplotlib ipyvolume bqplot\n",
    "```"
   ]
  },
  {
   "cell_type": "markdown",
   "metadata": {
    "slideshow": {
     "slide_type": "slide"
    }
   },
   "source": [
    "# SiScLab Project 8\n",
    "\n",
    "<div class=\"alert alert-block alert-info\">\n",
    "<b>Tip:</b> Use blue boxes (alert-info) for tips and notes. \n",
    "If it’s a note, you don’t have to include the word “Note”.\n",
    "</div>\n"
   ]
  },
  {
   "cell_type": "code",
   "execution_count": 2,
   "metadata": {
    "slideshow": {
     "slide_type": "fragment"
    }
   },
   "outputs": [
    {
     "name": "stdout",
     "output_type": "stream",
     "text": [
      "now add some slides\n"
     ]
    }
   ],
   "source": [
    "print(\"now add some slides\")"
   ]
  },
  {
   "cell_type": "markdown",
   "metadata": {
    "slideshow": {
     "slide_type": "subslide"
    }
   },
   "source": [
    "This is a sub-slide."
   ]
  },
  {
   "cell_type": "markdown",
   "metadata": {
    "slideshow": {
     "slide_type": "fragment"
    }
   },
   "source": [
    "This is a fragment.\n",
    "With some formula. $$\\Phi = \\int_0^\\inf \\phi dx$$"
   ]
  },
  {
   "cell_type": "markdown",
   "metadata": {
    "slideshow": {
     "slide_type": "skip"
    }
   },
   "source": [
    "This will be skipped."
   ]
  },
  {
   "cell_type": "markdown",
   "metadata": {
    "slideshow": {
     "slide_type": "skip"
    }
   },
   "source": [
    "# Adding and formatting images\n",
    "\n",
    "## Simple\n",
    "1) Using syntax `![label](address-or-path)`:\n",
    "![matplot class diagram](../fig/test_icon.png)\n",
    "\n",
    "2) Drag&Drop inside the mardown cell (does not work with svg, not copyable to other cell):\n",
    "\n",
    "![studenproject18ws.plot.matplot.png](attachment:studenproject18ws.plot.matplot.png)\n",
    "\n",
    "## Resizing and captions\n",
    "1) Using HTML syntax enables resizing:\n",
    "\n",
    "<img src=\"../fig/test_icon.png\" width=\"200\"/>\n",
    "\n",
    "<img src=\"../fig/test_icon.png\" alt=\"Drawing\" style=\"width: 20px;\"/>\n",
    "\n",
    "2) Using HTML syntax enables captions\n",
    "<figure><img src='//discourse-meta.s3-us-west-1.amazonaws.com/original/2X/3/39239a7f2b0f0aa72bdd0d3c1880f15f1a967276.png'><figcaption>The discourse logo</figcaption></figure>\n",
    "\n",
    "## Two images side by side\n",
    "\n",
    "- see [reference](https://stackoverflow.com/questions/33647774/how-to-include-two-pictures-side-by-side-in-markdown-for-ipython-notebook-jupyt/33746671)\n",
    "\n",
    "\n",
    "1) using HTML `<table>`:\n",
    "\n",
    "<table><tr>\n",
    "    <td> <img src=\"../fig/test_icon.png\" alt=\"Drawing\" style=\"width: 50px;\"/> </td>\n",
    "    <td> <img src=\"../fig/test_icon.png\" alt=\"Drawing\" style=\"width: 50px;\"/> </td>\n",
    "</tr></table>\n",
    "\n",
    "2) using markdown table:\n",
    "\n",
    "A | B\n",
    "- | - \n",
    "![matplot class diagram](../fig/test_icon.png) | ![matplot class diagram](../fig/test_icon.png)"
   ]
  },
  {
   "cell_type": "code",
   "execution_count": 7,
   "metadata": {
    "scrolled": false,
    "slideshow": {
     "slide_type": "slide"
    }
   },
   "outputs": [
    {
     "data": {
      "application/vnd.jupyter.widget-view+json": {
       "model_id": "7ff47bbc183b4738bde750d59555fda9",
       "version_major": 2,
       "version_minor": 0
      },
      "text/plain": [
       "FigureCanvasNbAgg()"
      ]
     },
     "metadata": {},
     "output_type": "display_data"
    },
    {
     "data": {
      "application/vnd.jupyter.widget-view+json": {
       "model_id": "31127ca3d51d43faa582b8765ae243d1",
       "version_major": 2,
       "version_minor": 0
      },
      "text/plain": [
       "HBox(children=(Box(children=(FloatRangeSlider(value=(-26.06719531200066, 7.529399581745224), continuous_update…"
      ]
     },
     "metadata": {},
     "output_type": "display_data"
    },
    {
     "data": {
      "application/vnd.jupyter.widget-view+json": {
       "model_id": "806b09d03dd747908c449190827d6f91",
       "version_major": 2,
       "version_minor": 0
      },
      "text/plain": [
       "Checkbox(value=False, description='Ignore atoms per group')"
      ]
     },
     "metadata": {},
     "output_type": "display_data"
    },
    {
     "data": {
      "application/vnd.jupyter.widget-view+json": {
       "model_id": "28e858dde68b4c31abb503b3a4299f1f",
       "version_major": 2,
       "version_minor": 0
      },
      "text/plain": [
       "SelectMultiple(description='spins', index=(0,), options=(0,), value=(0,))"
      ]
     },
     "metadata": {},
     "output_type": "display_data"
    },
    {
     "data": {
      "application/vnd.jupyter.widget-view+json": {
       "model_id": "6bcd12e976ab4698bf330afce9d2824d",
       "version_major": 2,
       "version_minor": 0
      },
      "text/plain": [
       "Checkbox(value=True, description='DOS groups')"
      ]
     },
     "metadata": {},
     "output_type": "display_data"
    },
    {
     "data": {
      "application/vnd.jupyter.widget-view+json": {
       "model_id": "6f8a2a79d420470683a04c855058f760",
       "version_major": 2,
       "version_minor": 0
      },
      "text/plain": [
       "Checkbox(value=True, description='DOS interstitial')"
      ]
     },
     "metadata": {},
     "output_type": "display_data"
    },
    {
     "data": {
      "application/vnd.jupyter.widget-view+json": {
       "model_id": "87ccec8c35c046718c7829edccb319f0",
       "version_major": 2,
       "version_minor": 0
      },
      "text/plain": [
       "Checkbox(value=False, description='DOS all characters')"
      ]
     },
     "metadata": {},
     "output_type": "display_data"
    },
    {
     "data": {
      "application/vnd.jupyter.widget-view+json": {
       "model_id": "5377c92e8fab46d9a1cd83ac0d5074c1",
       "version_major": 2,
       "version_minor": 0
      },
      "text/plain": [
       "interactive(children=(SelectMultiple(description='groups', index=(0, 1, 2, 3, 4, 5, 6, 7, 8, 9, 10, 11, 12, 13…"
      ]
     },
     "metadata": {},
     "output_type": "display_data"
    }
   ],
   "source": [
    "%run demos/demo_bands_Diamond.ipynb"
   ]
  },
  {
   "cell_type": "code",
   "execution_count": null,
   "metadata": {},
   "outputs": [],
   "source": []
  }
 ],
 "metadata": {
  "celltoolbar": "Slideshow",
  "kernelspec": {
   "display_name": "Python 3",
   "language": "python",
   "name": "python3"
  },
  "language_info": {
   "codemirror_mode": {
    "name": "ipython",
    "version": 3
   },
   "file_extension": ".py",
   "mimetype": "text/x-python",
   "name": "python",
   "nbconvert_exporter": "python",
   "pygments_lexer": "ipython3",
   "version": "3.6.7"
  },
  "toc": {
   "base_numbering": 1,
   "nav_menu": {},
   "number_sections": true,
   "sideBar": true,
   "skip_h1_title": false,
   "title_cell": "Table of Contents",
   "title_sidebar": "Contents",
   "toc_cell": false,
   "toc_position": {},
   "toc_section_display": true,
   "toc_window_display": true
  },
  "varInspector": {
   "cols": {
    "lenName": 16,
    "lenType": 16,
    "lenVar": 40
   },
   "kernels_config": {
    "python": {
     "delete_cmd_postfix": "",
     "delete_cmd_prefix": "del ",
     "library": "var_list.py",
     "varRefreshCmd": "print(var_dic_list())"
    },
    "r": {
     "delete_cmd_postfix": ") ",
     "delete_cmd_prefix": "rm(",
     "library": "var_list.r",
     "varRefreshCmd": "cat(var_dic_list()) "
    }
   },
   "types_to_exclude": [
    "module",
    "function",
    "builtin_function_or_method",
    "instance",
    "_Feature"
   ],
   "window_display": false
  }
 },
 "nbformat": 4,
 "nbformat_minor": 2
}
