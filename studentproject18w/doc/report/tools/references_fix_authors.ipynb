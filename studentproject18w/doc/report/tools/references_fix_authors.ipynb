{
 "cells": [
  {
   "cell_type": "code",
   "execution_count": 18,
   "metadata": {},
   "outputs": [
    {
     "data": {
      "text/plain": [
       "'Robinson, K.S. and Tolkien, J.R.R. and Lama, D.'"
      ]
     },
     "execution_count": 18,
     "metadata": {},
     "output_type": "execute_result"
    }
   ],
   "source": [
    "def bibtex_fix_authors1(authors):\n",
    "    \"\"\"\n",
    "    The correct way to cite multiple authors in a bibtex entry is this:\n",
    "    author = \"Surname1, F1. and Surname2, F1.F2.F3. and Surname3, F1. and ...\",\n",
    "    This function turns a string of a list of authors into that format.\n",
    "    The input is expected to be:\n",
    "    A string of a list of authors in the format:\n",
    "    \"Forename11 ... Forename1N Surname1_SEP_Forename21 ... Forename2N Surname2_SEP_...\"\n",
    "    where the _SEP_ is one of [' and ', ', ', '; '].\n",
    "    \"\"\"\n",
    "    seps = [\" and \", \", \", \"; \"]\n",
    "    sep = None\n",
    "    for sep in seps:\n",
    "        if sep in authors:\n",
    "            break\n",
    "\n",
    "    authors = authors.split(sep)\n",
    "    authors_fixed = []\n",
    "    for author in authors:\n",
    "        names = author.split(\" \")\n",
    "        forenames, surname = names[:-1], names[-1]\n",
    "        forenames = [fn[0] + \".\" for fn in forenames]\n",
    "        forenames = \"\".join(forenames)\n",
    "        names = surname + \", \" + forenames\n",
    "        authors_fixed.append(names)\n",
    "\n",
    "    authors_fixed = \" and \".join(authors_fixed)\n",
    "    return authors_fixed\n",
    "\n",
    "\n",
    "authors = \"Kim Stanley Robinson and John Roald Reuel Tolkien and Dalai Lama\" \n",
    "bibtex_fix_authors1(authors)"
   ]
  },
  {
   "cell_type": "code",
   "execution_count": null,
   "metadata": {},
   "outputs": [],
   "source": []
  }
 ],
 "metadata": {
  "kernelspec": {
   "display_name": "Python 3",
   "language": "python",
   "name": "python3"
  },
  "language_info": {
   "codemirror_mode": {
    "name": "ipython",
    "version": 3
   },
   "file_extension": ".py",
   "mimetype": "text/x-python",
   "name": "python",
   "nbconvert_exporter": "python",
   "pygments_lexer": "ipython3",
   "version": "3.6.7"
  }
 },
 "nbformat": 4,
 "nbformat_minor": 2
}
